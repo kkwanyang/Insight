{
 "cells": [
  {
   "cell_type": "markdown",
   "metadata": {},
   "source": [
    "# Loading Modules"
   ]
  },
  {
   "cell_type": "code",
   "execution_count": 46,
   "metadata": {
    "collapsed": false,
    "scrolled": true
   },
   "outputs": [],
   "source": [
    "%matplotlib inline\n",
    "\n",
    "import seaborn as sns\n",
    "import numpy as np\n",
    "import pandas as pd\n",
    "import csv\n",
    "import datetime\n",
    "import matplotlib.pyplot as plt\n",
    "from sklearn.utils import resample\n",
    "from sklearn.metrics import confusion_matrix, classification_report, recall_score, precision_recall_curve\n",
    "from sklearn.cross_validation import train_test_split, cross_val_score, KFold\n",
    "from patsy import dmatrices\n",
    "from sklearn.ensemble import RandomForestClassifier\n",
    "from sklearn.linear_model import LogisticRegression, LogisticRegressionCV\n",
    "from sklearn.naive_bayes import BernoulliNB\n",
    "from sklearn.grid_search import GridSearchCV\n",
    "import statsmodels.api as sm\n",
    "from sklearn.ensemble import GradientBoostingClassifier\n",
    "from sklearn.svm import LinearSVC"
   ]
  },
  {
   "cell_type": "code",
   "execution_count": 132,
   "metadata": {
    "collapsed": true
   },
   "outputs": [],
   "source": [
    "def prob_adjusted_outcome(model_probabilities,threshold):\n",
    "    y_adjusted=[]\n",
    "    for prob in model_probabilities:\n",
    "        if prob[1] > threshold:\n",
    "            y_adjusted.append(True)\n",
    "        else:\n",
    "            y_adjusted.append(False)\n",
    "    return y_adjusted"
   ]
  },
  {
   "cell_type": "markdown",
   "metadata": {},
   "source": [
    "# Loading Dataset and Reordering Data"
   ]
  },
  {
   "cell_type": "code",
   "execution_count": 2,
   "metadata": {
    "collapsed": true
   },
   "outputs": [],
   "source": [
    "filename='ATA_data.csv'"
   ]
  },
  {
   "cell_type": "code",
   "execution_count": 3,
   "metadata": {
    "collapsed": false,
    "scrolled": true
   },
   "outputs": [],
   "source": [
    "df = pd.read_csv(filename)\n",
    "df=df.drop('Unnamed: 0',1)"
   ]
  },
  {
   "cell_type": "code",
   "execution_count": 4,
   "metadata": {
    "collapsed": false
   },
   "outputs": [
    {
     "data": {
      "text/plain": [
       "array(['datetime', 'advertiser_bundle_id', 'creative_id', 'ad_id',\n",
       "       'app_id', 'bidadop_id', 'app_name', 'app_categories',\n",
       "       'publisher_name', 'device_idfa', 'os', 'osv', 'make', 'model',\n",
       "       'country', 'city', 'language', 'impression', 'clicked', 'installed',\n",
       "       'app_type', 'weekday', 'hours'], dtype=object)"
      ]
     },
     "execution_count": 4,
     "metadata": {},
     "output_type": "execute_result"
    }
   ],
   "source": [
    "df.columns.unique()"
   ]
  },
  {
   "cell_type": "code",
   "execution_count": 5,
   "metadata": {
    "collapsed": false
   },
   "outputs": [],
   "source": []
  },
  {
   "cell_type": "code",
   "execution_count": 8,
   "metadata": {
    "collapsed": true
   },
   "outputs": [],
   "source": [
    "cats_to_keep=['entertainment', 'games', 'lifestyle', 'music', 'photography', 'productivity', \n",
    "             'social_networking', 'sports', 'travel', 'utilities']"
   ]
  },
  {
   "cell_type": "code",
   "execution_count": 9,
   "metadata": {
    "collapsed": true
   },
   "outputs": [],
   "source": [
    "df_clean2=df_clean1[df_clean1.app_type.isin(cats_to_keep)]"
   ]
  },
  {
   "cell_type": "markdown",
   "metadata": {},
   "source": [
    "#### Taking interesting features"
   ]
  },
  {
   "cell_type": "code",
   "execution_count": 10,
   "metadata": {
    "collapsed": false
   },
   "outputs": [],
   "source": [
    "cols_to_keep=['installed','clicked','impression','app_type','weekday','hours']\n",
    "filtered_df=df_clean2[cols_to_keep]"
   ]
  },
  {
   "cell_type": "markdown",
   "metadata": {},
   "source": [
    "### Downsampling, remove the majority class by user set percentage"
   ]
  },
  {
   "cell_type": "code",
   "execution_count": 11,
   "metadata": {
    "collapsed": false,
    "scrolled": true
   },
   "outputs": [],
   "source": [
    "False_df=filtered_df[filtered_df['installed'] == False]\n",
    "Truth_df=filtered_df[filtered_df['installed'] == True]\n",
    "\n",
    "target_downsampling = 0.50;\n",
    "downsampling=int(np.round((Truth_df.shape[0]/target_downsampling)*(1-target_downsampling)))\n",
    "\n",
    "#Downsampling by target downsample rate\n",
    "Downsampled_False=resample(False_df, n_samples=downsampling, random_state=0, replace = False)\n",
    "\n",
    "# Merge the downsampled False with total True outcomes\n",
    "less_imbalance=pd.concat([Downsampled_False,Truth_df])"
   ]
  },
  {
   "cell_type": "code",
   "execution_count": 14,
   "metadata": {
    "collapsed": false
   },
   "outputs": [],
   "source": [
    "#No downsampling dataset\n",
    "clean_data=filtered_df"
   ]
  },
  {
   "cell_type": "markdown",
   "metadata": {},
   "source": [
    "## Creating the dummy variables."
   ]
  },
  {
   "cell_type": "markdown",
   "metadata": {},
   "source": [
    "### Quick dirty comparison of AUC of ROC "
   ]
  },
  {
   "cell_type": "markdown",
   "metadata": {},
   "source": [
    "<p> Comparing the ROC_AUC of the complete dataset vs. downsampled dataset. This is used as an indication of model stability. </p>"
   ]
  },
  {
   "cell_type": "markdown",
   "metadata": {},
   "source": [
    "<p> "
   ]
  },
  {
   "cell_type": "markdown",
   "metadata": {},
   "source": [
    "Use patsy to create the dummy variable"
   ]
  },
  {
   "cell_type": "code",
   "execution_count": 15,
   "metadata": {
    "collapsed": false,
    "scrolled": true
   },
   "outputs": [],
   "source": [
    "y_com,X_com = dmatrices('installed ~ hours + C(weekday) + C(app_type)'\n",
    "               ,clean_data, return_type='dataframe'\n",
    "               )"
   ]
  },
  {
   "cell_type": "code",
   "execution_count": 18,
   "metadata": {
    "collapsed": false
   },
   "outputs": [],
   "source": [
    "y_com=np.ravel(y_com.iloc[:,1:])"
   ]
  },
  {
   "cell_type": "code",
   "execution_count": 166,
   "metadata": {
    "collapsed": false
   },
   "outputs": [
    {
     "data": {
      "text/plain": [
       "array([ 0.,  0.,  0., ...,  0.,  0.,  0.])"
      ]
     },
     "execution_count": 166,
     "metadata": {},
     "output_type": "execute_result"
    }
   ],
   "source": [
    "y_com"
   ]
  },
  {
   "cell_type": "code",
   "execution_count": 29,
   "metadata": {
    "collapsed": false
   },
   "outputs": [],
   "source": [
    "roc_auc_com= cross_val_score(LogisticRegression(class_weight='auto', fit_intercept=False),\n",
    "                          X_com, y_com, scoring='roc_auc', cv =5)"
   ]
  },
  {
   "cell_type": "code",
   "execution_count": 39,
   "metadata": {
    "collapsed": false
   },
   "outputs": [],
   "source": [
    "y,X = dmatrices('installed ~ hours + C(weekday) + C(app_type)'\n",
    "               ,less_imbalance, return_type='dataframe'\n",
    "               )"
   ]
  },
  {
   "cell_type": "code",
   "execution_count": 40,
   "metadata": {
    "collapsed": true
   },
   "outputs": [],
   "source": [
    "y=np.ravel(y.iloc[:,1:])"
   ]
  },
  {
   "cell_type": "code",
   "execution_count": 41,
   "metadata": {
    "collapsed": false
   },
   "outputs": [],
   "source": [
    "roc_auc_dsampled= cross_val_score(LogisticRegression(class_weight='auto', fit_intercept=False),\n",
    "                          X, y, scoring='roc_auc', cv =5)"
   ]
  },
  {
   "cell_type": "code",
   "execution_count": 44,
   "metadata": {
    "collapsed": false
   },
   "outputs": [
    {
     "name": "stdout",
     "output_type": "stream",
     "text": [
      "0.00907950695745\n"
     ]
    }
   ],
   "source": [
    "roc_auc_diff= np.mean(roc_auc_com - roc_auc_dsampled)\n",
    "print roc_auc_diff"
   ]
  },
  {
   "cell_type": "markdown",
   "metadata": {},
   "source": [
    "## Running different models."
   ]
  },
  {
   "cell_type": "code",
   "execution_count": 64,
   "metadata": {
    "collapsed": false
   },
   "outputs": [],
   "source": [
    "rm=[LogisticRegression(fit_intercept=False), RandomForestClassifier(), LinearSVC(), GradientBoostingClassifier(max_depth=3)]\n",
    "cvs=5\n",
    "model_aucs=np.empty((len(rm),cvs))\n",
    "model_recalls=np.empty((len(rm),cvs))\n",
    "model_precision=np.empty((len(rm),cvs))\n",
    "\n",
    "for i,models in enumerate(rm):\n",
    "    \n",
    "    model_recalls[i,:] = cross_val_score(models, X, y, scoring = 'recall', cv = cvs)\n",
    "    model_precision[i,:] = cross_val_score(models, X, y, scoring = 'precision', cv = cvs)\n",
    "    model_aucs[i,:] = cross_val_score(models, X, y, scoring = 'roc_auc', cv = cvs)\n"
   ]
  },
  {
   "cell_type": "code",
   "execution_count": 69,
   "metadata": {
    "collapsed": false
   },
   "outputs": [],
   "source": [
    "summary_matrices = np.empty((6,len(rm)))\n",
    "summary_matrices[0, :] = np.mean(model_recalls, axis=1)\n",
    "summary_matrices[1, :] = np.std(model_recalls, axis = 1)\n",
    "summary_matrices[2, :] = np.mean(model_precision, axis=1)\n",
    "summary_matrices[3, :] = np.std(model_precision, axis = 1)\n",
    "summary_matrices[4, :] = np.mean(model_aucs, axis=1)\n",
    "summary_matrices[5, :] = np.std(model_aucs, axis = 1)"
   ]
  },
  {
   "cell_type": "code",
   "execution_count": 70,
   "metadata": {
    "collapsed": false
   },
   "outputs": [],
   "source": [
    "summary_df=pd.DataFrame(summary_matrices)\n",
    "summary_df.columns=['Logistic Regression', 'Random Forest', 'Linear SVC', 'GradientBoostClassifier']\n",
    "summary_df.index=['Recall mean', 'Recall std', 'Precision mean', 'Precision std', 'ROC_AUC mean', 'ROC_AUC std']"
   ]
  },
  {
   "cell_type": "code",
   "execution_count": 71,
   "metadata": {
    "collapsed": false
   },
   "outputs": [
    {
     "data": {
      "text/html": [
       "<div>\n",
       "<table border=\"1\" class=\"dataframe\">\n",
       "  <thead>\n",
       "    <tr style=\"text-align: right;\">\n",
       "      <th></th>\n",
       "      <th>Logistic Regression</th>\n",
       "      <th>Random Forest</th>\n",
       "      <th>Linear SVC</th>\n",
       "      <th>GradientBoostClassifier</th>\n",
       "    </tr>\n",
       "  </thead>\n",
       "  <tbody>\n",
       "    <tr>\n",
       "      <th>Recall mean</th>\n",
       "      <td>0.718492</td>\n",
       "      <td>0.584985</td>\n",
       "      <td>0.760059</td>\n",
       "      <td>0.648530</td>\n",
       "    </tr>\n",
       "    <tr>\n",
       "      <th>Recall std</th>\n",
       "      <td>0.132833</td>\n",
       "      <td>0.016076</td>\n",
       "      <td>0.067455</td>\n",
       "      <td>0.059857</td>\n",
       "    </tr>\n",
       "    <tr>\n",
       "      <th>Precision mean</th>\n",
       "      <td>0.537776</td>\n",
       "      <td>0.545529</td>\n",
       "      <td>0.541720</td>\n",
       "      <td>0.551129</td>\n",
       "    </tr>\n",
       "    <tr>\n",
       "      <th>Precision std</th>\n",
       "      <td>0.031245</td>\n",
       "      <td>0.009489</td>\n",
       "      <td>0.024927</td>\n",
       "      <td>0.023980</td>\n",
       "    </tr>\n",
       "    <tr>\n",
       "      <th>ROC_AUC mean</th>\n",
       "      <td>0.559329</td>\n",
       "      <td>0.542976</td>\n",
       "      <td>0.558990</td>\n",
       "      <td>0.566703</td>\n",
       "    </tr>\n",
       "    <tr>\n",
       "      <th>ROC_AUC std</th>\n",
       "      <td>0.036102</td>\n",
       "      <td>0.026191</td>\n",
       "      <td>0.032048</td>\n",
       "      <td>0.027623</td>\n",
       "    </tr>\n",
       "  </tbody>\n",
       "</table>\n",
       "</div>"
      ],
      "text/plain": [
       "                Logistic Regression  Random Forest  Linear SVC  \\\n",
       "Recall mean                0.718492       0.584985    0.760059   \n",
       "Recall std                 0.132833       0.016076    0.067455   \n",
       "Precision mean             0.537776       0.545529    0.541720   \n",
       "Precision std              0.031245       0.009489    0.024927   \n",
       "ROC_AUC mean               0.559329       0.542976    0.558990   \n",
       "ROC_AUC std                0.036102       0.026191    0.032048   \n",
       "\n",
       "                GradientBoostClassifier  \n",
       "Recall mean                    0.648530  \n",
       "Recall std                     0.059857  \n",
       "Precision mean                 0.551129  \n",
       "Precision std                  0.023980  \n",
       "ROC_AUC mean                   0.566703  \n",
       "ROC_AUC std                    0.027623  "
      ]
     },
     "execution_count": 71,
     "metadata": {},
     "output_type": "execute_result"
    }
   ],
   "source": [
    "summary_df"
   ]
  },
  {
   "cell_type": "code",
   "execution_count": null,
   "metadata": {
    "collapsed": true
   },
   "outputs": [],
   "source": []
  },
  {
   "cell_type": "markdown",
   "metadata": {},
   "source": []
  },
  {
   "cell_type": "markdown",
   "metadata": {},
   "source": [
    "#### Using 90% of data to train."
   ]
  },
  {
   "cell_type": "code",
   "execution_count": 76,
   "metadata": {
    "collapsed": true,
    "scrolled": true
   },
   "outputs": [],
   "source": [
    "X_train, X_test, y_train, y_test = train_test_split(X, y, test_size=0.1, random_state=0)"
   ]
  },
  {
   "cell_type": "markdown",
   "metadata": {},
   "source": [
    "## Logistic Regression "
   ]
  },
  {
   "cell_type": "code",
   "execution_count": 79,
   "metadata": {
    "collapsed": false,
    "scrolled": true
   },
   "outputs": [],
   "source": [
    "modelLogR2 = LogisticRegression(class_weight='auto',fit_intercept=False);\n",
    "modelLogR2.fit(X_train, y_train);"
   ]
  },
  {
   "cell_type": "code",
   "execution_count": 80,
   "metadata": {
    "collapsed": false,
    "scrolled": true
   },
   "outputs": [
    {
     "data": {
      "text/html": [
       "<div>\n",
       "<table border=\"1\" class=\"dataframe\">\n",
       "  <thead>\n",
       "    <tr style=\"text-align: right;\">\n",
       "      <th></th>\n",
       "      <th>0</th>\n",
       "      <th>1</th>\n",
       "    </tr>\n",
       "  </thead>\n",
       "  <tbody>\n",
       "    <tr>\n",
       "      <th>0</th>\n",
       "      <td>Intercept</td>\n",
       "      <td>[-0.851950796261]</td>\n",
       "    </tr>\n",
       "    <tr>\n",
       "      <th>1</th>\n",
       "      <td>C(weekday)[T.2]</td>\n",
       "      <td>[-0.176030318048]</td>\n",
       "    </tr>\n",
       "    <tr>\n",
       "      <th>2</th>\n",
       "      <td>C(weekday)[T.3]</td>\n",
       "      <td>[-0.510803933691]</td>\n",
       "    </tr>\n",
       "    <tr>\n",
       "      <th>3</th>\n",
       "      <td>C(weekday)[T.4]</td>\n",
       "      <td>[-0.386893067098]</td>\n",
       "    </tr>\n",
       "    <tr>\n",
       "      <th>4</th>\n",
       "      <td>C(weekday)[T.5]</td>\n",
       "      <td>[-0.147138849184]</td>\n",
       "    </tr>\n",
       "    <tr>\n",
       "      <th>5</th>\n",
       "      <td>C(weekday)[T.6]</td>\n",
       "      <td>[-0.0718215278983]</td>\n",
       "    </tr>\n",
       "    <tr>\n",
       "      <th>6</th>\n",
       "      <td>C(weekday)[T.7]</td>\n",
       "      <td>[0.0805889013225]</td>\n",
       "    </tr>\n",
       "    <tr>\n",
       "      <th>7</th>\n",
       "      <td>C(app_type)[T.games]</td>\n",
       "      <td>[1.03653052008]</td>\n",
       "    </tr>\n",
       "    <tr>\n",
       "      <th>8</th>\n",
       "      <td>C(app_type)[T.lifestyle]</td>\n",
       "      <td>[0.0977921414728]</td>\n",
       "    </tr>\n",
       "    <tr>\n",
       "      <th>9</th>\n",
       "      <td>C(app_type)[T.music]</td>\n",
       "      <td>[-0.471685951065]</td>\n",
       "    </tr>\n",
       "    <tr>\n",
       "      <th>10</th>\n",
       "      <td>C(app_type)[T.photography]</td>\n",
       "      <td>[0.373634835787]</td>\n",
       "    </tr>\n",
       "    <tr>\n",
       "      <th>11</th>\n",
       "      <td>C(app_type)[T.productivity]</td>\n",
       "      <td>[-0.358362285082]</td>\n",
       "    </tr>\n",
       "    <tr>\n",
       "      <th>12</th>\n",
       "      <td>C(app_type)[T.social_networking]</td>\n",
       "      <td>[-0.829821805699]</td>\n",
       "    </tr>\n",
       "    <tr>\n",
       "      <th>13</th>\n",
       "      <td>C(app_type)[T.sports]</td>\n",
       "      <td>[0.0439961986323]</td>\n",
       "    </tr>\n",
       "    <tr>\n",
       "      <th>14</th>\n",
       "      <td>C(app_type)[T.travel]</td>\n",
       "      <td>[-0.00702334746464]</td>\n",
       "    </tr>\n",
       "    <tr>\n",
       "      <th>15</th>\n",
       "      <td>C(app_type)[T.utilities]</td>\n",
       "      <td>[-0.0714323531762]</td>\n",
       "    </tr>\n",
       "    <tr>\n",
       "      <th>16</th>\n",
       "      <td>hours</td>\n",
       "      <td>[0.00812580589295]</td>\n",
       "    </tr>\n",
       "  </tbody>\n",
       "</table>\n",
       "</div>"
      ],
      "text/plain": [
       "                                   0                    1\n",
       "0                          Intercept    [-0.851950796261]\n",
       "1                    C(weekday)[T.2]    [-0.176030318048]\n",
       "2                    C(weekday)[T.3]    [-0.510803933691]\n",
       "3                    C(weekday)[T.4]    [-0.386893067098]\n",
       "4                    C(weekday)[T.5]    [-0.147138849184]\n",
       "5                    C(weekday)[T.6]   [-0.0718215278983]\n",
       "6                    C(weekday)[T.7]    [0.0805889013225]\n",
       "7               C(app_type)[T.games]      [1.03653052008]\n",
       "8           C(app_type)[T.lifestyle]    [0.0977921414728]\n",
       "9               C(app_type)[T.music]    [-0.471685951065]\n",
       "10        C(app_type)[T.photography]     [0.373634835787]\n",
       "11       C(app_type)[T.productivity]    [-0.358362285082]\n",
       "12  C(app_type)[T.social_networking]    [-0.829821805699]\n",
       "13             C(app_type)[T.sports]    [0.0439961986323]\n",
       "14             C(app_type)[T.travel]  [-0.00702334746464]\n",
       "15          C(app_type)[T.utilities]   [-0.0714323531762]\n",
       "16                             hours   [0.00812580589295]"
      ]
     },
     "execution_count": 80,
     "metadata": {},
     "output_type": "execute_result"
    }
   ],
   "source": [
    "pd.DataFrame(zip(X_train.columns, np.transpose(modelLogR2.coef_)))"
   ]
  },
  {
   "cell_type": "code",
   "execution_count": 81,
   "metadata": {
    "collapsed": false,
    "scrolled": true
   },
   "outputs": [
    {
     "data": {
      "text/plain": [
       "0.79076479076479078"
      ]
     },
     "execution_count": 81,
     "metadata": {},
     "output_type": "execute_result"
    }
   ],
   "source": [
    "#Use Training Set to verify if model is learning anything\n",
    "verify_train = modelLogR2.predict(X_train)\n",
    "prob_train = modelLogR2.predict_proba(X_train)\n",
    "recall_score(y_train,verify_train)\n",
    "\n",
    "\n"
   ]
  },
  {
   "cell_type": "code",
   "execution_count": 82,
   "metadata": {
    "collapsed": false,
    "scrolled": true
   },
   "outputs": [
    {
     "name": "stdout",
     "output_type": "stream",
     "text": [
      "[[269 425]\n",
      " [145 548]]\n",
      "             precision    recall  f1-score   support\n",
      "\n",
      "        0.0       0.65      0.39      0.49       694\n",
      "        1.0       0.56      0.79      0.66       693\n",
      "\n",
      "avg / total       0.61      0.59      0.57      1387\n",
      "\n"
     ]
    }
   ],
   "source": [
    "#metrics for recall and confusion matrix\n",
    "\n",
    "print confusion_matrix(y_train, verify_train, labels=[True, False]).transpose()\n",
    "print classification_report(y_train, verify_train)"
   ]
  },
  {
   "cell_type": "code",
   "execution_count": 83,
   "metadata": {
    "collapsed": false,
    "scrolled": true
   },
   "outputs": [
    {
     "data": {
      "text/plain": [
       "0.80769230769230771"
      ]
     },
     "execution_count": 83,
     "metadata": {},
     "output_type": "execute_result"
    }
   ],
   "source": [
    "#Prediction using test set\n",
    "predictedLR2 = modelLogR2.predict(X_test)\n",
    "probLR2 = modelLogR2.predict_proba(X_test)\n",
    "recall_score(y_test,predictedLR2)\n",
    "\n",
    "\n"
   ]
  },
  {
   "cell_type": "code",
   "execution_count": 102,
   "metadata": {
    "collapsed": false,
    "scrolled": false
   },
   "outputs": [
    {
     "name": "stdout",
     "output_type": "stream",
     "text": [
      "[[63 43]\n",
      " [15 34]]\n",
      "             precision    recall  f1-score   support\n",
      "\n",
      "        0.0       0.69      0.44      0.54        77\n",
      "        1.0       0.59      0.81      0.68        78\n",
      "\n",
      "avg / total       0.64      0.63      0.61       155\n",
      "\n"
     ]
    }
   ],
   "source": [
    "#metrics for recall and confusion matrix\n",
    "\n",
    "cm = confusion_matrix(y_test, predictedLR2, labels=[True, False]).transpose()\n",
    "print cm\n",
    "print classification_report(y_test, predictedLR2)"
   ]
  },
  {
   "cell_type": "code",
   "execution_count": 101,
   "metadata": {
    "collapsed": false
   },
   "outputs": [
    {
     "data": {
      "image/png": "[encoded data removed]",
      "text/plain": [
       "<matplotlib.figure.Figure at 0x10fcfcfd0>"
      ]
     },
     "metadata": {},
     "output_type": "display_data"
    }
   ],
   "source": [
    "plt.matshow(cm)\n",
    "plt.title('Confusion matrix')\n",
    "plt.colorbar()\n",
    "plt.ylabel('True label');\n",
    "plt.xlabel('Predicted label');"
   ]
  },
  {
   "cell_type": "code",
   "execution_count": 46,
   "metadata": {
    "collapsed": false
   },
   "outputs": [],
   "source": []
  },
  {
   "cell_type": "code",
   "execution_count": 87,
   "metadata": {
    "collapsed": false
   },
   "outputs": [],
   "source": [
    "y_adjusted=prob_adjusted_outcome(probLR2,0.5)"
   ]
  },
  {
   "cell_type": "code",
   "execution_count": 88,
   "metadata": {
    "collapsed": false
   },
   "outputs": [
    {
     "name": "stdout",
     "output_type": "stream",
     "text": [
      "             precision    recall  f1-score   support\n",
      "\n",
      "        0.0       0.71      0.42      0.52       240\n",
      "        1.0       0.57      0.82      0.67       223\n",
      "\n",
      "avg / total       0.64      0.61      0.59       463\n",
      "\n"
     ]
    }
   ],
   "source": [
    "print classification_report(y_test, y_adjusted)"
   ]
  },
  {
   "cell_type": "code",
   "execution_count": 103,
   "metadata": {
    "collapsed": true
   },
   "outputs": [],
   "source": [
    "def prob_class_outcome(model_probabilities,select_class):\n",
    "    prob_class=[]\n",
    "    for prob in model_probabilities:\n",
    "            prob_class.append(prob[select_class])\n",
    "    return prob_class"
   ]
  },
  {
   "cell_type": "code",
   "execution_count": 104,
   "metadata": {
    "collapsed": false
   },
   "outputs": [],
   "source": [
    "y_prob=prob_class_outcome(probLR2,1)"
   ]
  },
  {
   "cell_type": "code",
   "execution_count": 176,
   "metadata": {
    "collapsed": false
   },
   "outputs": [
    {
     "data": {
      "text/plain": [
       "0.97247562985234504"
      ]
     },
     "execution_count": 176,
     "metadata": {},
     "output_type": "execute_result"
    }
   ],
   "source": [
    "np.sum(np.array(y_prob))/np.sum(y_test)"
   ]
  },
  {
   "cell_type": "code",
   "execution_count": 175,
   "metadata": {
    "collapsed": false
   },
   "outputs": [
    {
     "data": {
      "text/plain": [
       "78.0"
      ]
     },
     "execution_count": 175,
     "metadata": {},
     "output_type": "execute_result"
    }
   ],
   "source": [
    "np.sum(y_test)"
   ]
  },
  {
   "cell_type": "code",
   "execution_count": null,
   "metadata": {
    "collapsed": false
   },
   "outputs": [],
   "source": [
    "\n",
    "# Precision Recall Curve\n",
    "precision, recall, thresholds = precision_recall_curve(y_test,y_prob)"
   ]
  },
  {
   "cell_type": "code",
   "execution_count": null,
   "metadata": {
    "collapsed": false
   },
   "outputs": [],
   "source": [
    "plt.plot(recall,precision)"
   ]
  },
  {
   "cell_type": "code",
   "execution_count": null,
   "metadata": {
    "collapsed": true
   },
   "outputs": [],
   "source": []
  },
  {
   "cell_type": "markdown",
   "metadata": {
    "collapsed": true
   },
   "source": [
    "### Gradient Boosting Classifier"
   ]
  },
  {
   "cell_type": "code",
   "execution_count": 105,
   "metadata": {
    "collapsed": true
   },
   "outputs": [],
   "source": [
    "modelGBC = GradientBoostingClassifier();\n",
    "modelGBC.fit(X_train, y_train);"
   ]
  },
  {
   "cell_type": "code",
   "execution_count": 109,
   "metadata": {
    "collapsed": false
   },
   "outputs": [
    {
     "data": {
      "text/html": [
       "<div>\n",
       "<table border=\"1\" class=\"dataframe\">\n",
       "  <thead>\n",
       "    <tr style=\"text-align: right;\">\n",
       "      <th></th>\n",
       "      <th>0</th>\n",
       "      <th>1</th>\n",
       "    </tr>\n",
       "  </thead>\n",
       "  <tbody>\n",
       "    <tr>\n",
       "      <th>0</th>\n",
       "      <td>Intercept</td>\n",
       "      <td>0.000000</td>\n",
       "    </tr>\n",
       "    <tr>\n",
       "      <th>1</th>\n",
       "      <td>C(weekday)[T.2]</td>\n",
       "      <td>0.030280</td>\n",
       "    </tr>\n",
       "    <tr>\n",
       "      <th>2</th>\n",
       "      <td>C(weekday)[T.3]</td>\n",
       "      <td>0.027567</td>\n",
       "    </tr>\n",
       "    <tr>\n",
       "      <th>3</th>\n",
       "      <td>C(weekday)[T.4]</td>\n",
       "      <td>0.058737</td>\n",
       "    </tr>\n",
       "    <tr>\n",
       "      <th>4</th>\n",
       "      <td>C(weekday)[T.5]</td>\n",
       "      <td>0.042074</td>\n",
       "    </tr>\n",
       "    <tr>\n",
       "      <th>5</th>\n",
       "      <td>C(weekday)[T.6]</td>\n",
       "      <td>0.058672</td>\n",
       "    </tr>\n",
       "    <tr>\n",
       "      <th>6</th>\n",
       "      <td>C(weekday)[T.7]</td>\n",
       "      <td>0.064534</td>\n",
       "    </tr>\n",
       "    <tr>\n",
       "      <th>7</th>\n",
       "      <td>C(app_type)[T.games]</td>\n",
       "      <td>0.104827</td>\n",
       "    </tr>\n",
       "    <tr>\n",
       "      <th>8</th>\n",
       "      <td>C(app_type)[T.lifestyle]</td>\n",
       "      <td>0.024214</td>\n",
       "    </tr>\n",
       "    <tr>\n",
       "      <th>9</th>\n",
       "      <td>C(app_type)[T.music]</td>\n",
       "      <td>0.012595</td>\n",
       "    </tr>\n",
       "    <tr>\n",
       "      <th>10</th>\n",
       "      <td>C(app_type)[T.photography]</td>\n",
       "      <td>0.022161</td>\n",
       "    </tr>\n",
       "    <tr>\n",
       "      <th>11</th>\n",
       "      <td>C(app_type)[T.productivity]</td>\n",
       "      <td>0.005706</td>\n",
       "    </tr>\n",
       "    <tr>\n",
       "      <th>12</th>\n",
       "      <td>C(app_type)[T.social_networking]</td>\n",
       "      <td>0.026705</td>\n",
       "    </tr>\n",
       "    <tr>\n",
       "      <th>13</th>\n",
       "      <td>C(app_type)[T.sports]</td>\n",
       "      <td>0.043327</td>\n",
       "    </tr>\n",
       "    <tr>\n",
       "      <th>14</th>\n",
       "      <td>C(app_type)[T.travel]</td>\n",
       "      <td>0.015081</td>\n",
       "    </tr>\n",
       "    <tr>\n",
       "      <th>15</th>\n",
       "      <td>C(app_type)[T.utilities]</td>\n",
       "      <td>0.028622</td>\n",
       "    </tr>\n",
       "    <tr>\n",
       "      <th>16</th>\n",
       "      <td>hours</td>\n",
       "      <td>0.434895</td>\n",
       "    </tr>\n",
       "  </tbody>\n",
       "</table>\n",
       "</div>"
      ],
      "text/plain": [
       "                                   0         1\n",
       "0                          Intercept  0.000000\n",
       "1                    C(weekday)[T.2]  0.030280\n",
       "2                    C(weekday)[T.3]  0.027567\n",
       "3                    C(weekday)[T.4]  0.058737\n",
       "4                    C(weekday)[T.5]  0.042074\n",
       "5                    C(weekday)[T.6]  0.058672\n",
       "6                    C(weekday)[T.7]  0.064534\n",
       "7               C(app_type)[T.games]  0.104827\n",
       "8           C(app_type)[T.lifestyle]  0.024214\n",
       "9               C(app_type)[T.music]  0.012595\n",
       "10        C(app_type)[T.photography]  0.022161\n",
       "11       C(app_type)[T.productivity]  0.005706\n",
       "12  C(app_type)[T.social_networking]  0.026705\n",
       "13             C(app_type)[T.sports]  0.043327\n",
       "14             C(app_type)[T.travel]  0.015081\n",
       "15          C(app_type)[T.utilities]  0.028622\n",
       "16                             hours  0.434895"
      ]
     },
     "execution_count": 109,
     "metadata": {},
     "output_type": "execute_result"
    }
   ],
   "source": [
    "pd.DataFrame(zip(X_train.columns, np.transpose(modelGBC.feature_importances_)))"
   ]
  },
  {
   "cell_type": "code",
   "execution_count": 110,
   "metadata": {
    "collapsed": false
   },
   "outputs": [
    {
     "data": {
      "text/plain": [
       "0.73737373737373735"
      ]
     },
     "execution_count": 110,
     "metadata": {},
     "output_type": "execute_result"
    }
   ],
   "source": [
    "#Use Training Set to verify if model is learning anything\n",
    "verify_train = modelGBC.predict(X_train)\n",
    "prob_train = modelGBC.predict_proba(X_train)\n",
    "recall_score(y_train,verify_train)"
   ]
  },
  {
   "cell_type": "code",
   "execution_count": 115,
   "metadata": {
    "collapsed": false,
    "scrolled": true
   },
   "outputs": [
    {
     "name": "stdout",
     "output_type": "stream",
     "text": [
      "[[511 316]\n",
      " [182 378]]\n",
      "             precision    recall  f1-score   support\n",
      "\n",
      "        0.0       0.68      0.54      0.60       694\n",
      "        1.0       0.62      0.74      0.67       693\n",
      "\n",
      "avg / total       0.65      0.64      0.64      1387\n",
      "\n"
     ]
    }
   ],
   "source": [
    "#metrics for recall and confusion matrix\n",
    "\n",
    "print confusion_matrix(y_train, verify_train, labels=[True, False]).transpose()\n",
    "print classification_report(y_train, verify_train)"
   ]
  },
  {
   "cell_type": "code",
   "execution_count": 119,
   "metadata": {
    "collapsed": false
   },
   "outputs": [
    {
     "data": {
      "text/plain": [
       "0.66666666666666663"
      ]
     },
     "execution_count": 119,
     "metadata": {},
     "output_type": "execute_result"
    }
   ],
   "source": [
    "#Prediction using test set\n",
    "predictedGBC = modelGBC.predict(X_test)\n",
    "probGBC = modelGBC.predict_proba(X_test)\n",
    "recall_score(y_test,predictedGBC)"
   ]
  },
  {
   "cell_type": "code",
   "execution_count": 121,
   "metadata": {
    "collapsed": false
   },
   "outputs": [
    {
     "name": "stdout",
     "output_type": "stream",
     "text": [
      "[[52 30]\n",
      " [26 47]]\n",
      "             precision    recall  f1-score   support\n",
      "\n",
      "        0.0       0.64      0.61      0.63        77\n",
      "        1.0       0.63      0.67      0.65        78\n",
      "\n",
      "avg / total       0.64      0.64      0.64       155\n",
      "\n"
     ]
    }
   ],
   "source": [
    "#metrics for recall and confusion matrix\n",
    "\n",
    "cm = confusion_matrix(y_test, predictedGBC, labels=[True, False]).transpose()\n",
    "print cm\n",
    "print classification_report(y_test, predictedGBC)"
   ]
  },
  {
   "cell_type": "code",
   "execution_count": 122,
   "metadata": {
    "collapsed": false
   },
   "outputs": [
    {
     "data": {
      "image/png": "[encoded data removed]",
      "text/plain": [
       "<matplotlib.figure.Figure at 0x11046ead0>"
      ]
     },
     "metadata": {},
     "output_type": "display_data"
    }
   ],
   "source": [
    "plt.matshow(cm)\n",
    "plt.title('Confusion matrix')\n",
    "plt.colorbar()\n",
    "plt.ylabel('True label');\n",
    "plt.xlabel('Predicted label');"
   ]
  },
  {
   "cell_type": "code",
   "execution_count": 151,
   "metadata": {
    "collapsed": false
   },
   "outputs": [
    {
     "data": {
      "text/plain": [
       "0.50322580645161286"
      ]
     },
     "execution_count": 151,
     "metadata": {},
     "output_type": "execute_result"
    }
   ],
   "source": [
    "np.mean(y_test)"
   ]
  },
  {
   "cell_type": "markdown",
   "metadata": {},
   "source": [
    "#### Rank Users based on predicted probabilities"
   ]
  },
  {
   "cell_type": "code",
   "execution_count": 149,
   "metadata": {
    "collapsed": false
   },
   "outputs": [
    {
     "data": {
      "text/html": [
       "<div>\n",
       "<table border=\"1\" class=\"dataframe\">\n",
       "  <thead>\n",
       "    <tr style=\"text-align: right;\">\n",
       "      <th></th>\n",
       "      <th>Predicted Outcomes</th>\n",
       "      <th>Probabilities</th>\n",
       "    </tr>\n",
       "  </thead>\n",
       "  <tbody>\n",
       "    <tr>\n",
       "      <th>95</th>\n",
       "      <td>0</td>\n",
       "      <td>0.029007</td>\n",
       "    </tr>\n",
       "    <tr>\n",
       "      <th>116</th>\n",
       "      <td>0</td>\n",
       "      <td>0.039756</td>\n",
       "    </tr>\n",
       "    <tr>\n",
       "      <th>148</th>\n",
       "      <td>0</td>\n",
       "      <td>0.068227</td>\n",
       "    </tr>\n",
       "    <tr>\n",
       "      <th>139</th>\n",
       "      <td>0</td>\n",
       "      <td>0.093016</td>\n",
       "    </tr>\n",
       "    <tr>\n",
       "      <th>47</th>\n",
       "      <td>0</td>\n",
       "      <td>0.101334</td>\n",
       "    </tr>\n",
       "    <tr>\n",
       "      <th>68</th>\n",
       "      <td>0</td>\n",
       "      <td>0.107609</td>\n",
       "    </tr>\n",
       "    <tr>\n",
       "      <th>97</th>\n",
       "      <td>0</td>\n",
       "      <td>0.122060</td>\n",
       "    </tr>\n",
       "    <tr>\n",
       "      <th>119</th>\n",
       "      <td>0</td>\n",
       "      <td>0.123496</td>\n",
       "    </tr>\n",
       "    <tr>\n",
       "      <th>1</th>\n",
       "      <td>0</td>\n",
       "      <td>0.136732</td>\n",
       "    </tr>\n",
       "    <tr>\n",
       "      <th>99</th>\n",
       "      <td>0</td>\n",
       "      <td>0.143720</td>\n",
       "    </tr>\n",
       "    <tr>\n",
       "      <th>45</th>\n",
       "      <td>0</td>\n",
       "      <td>0.143865</td>\n",
       "    </tr>\n",
       "    <tr>\n",
       "      <th>114</th>\n",
       "      <td>0</td>\n",
       "      <td>0.173740</td>\n",
       "    </tr>\n",
       "    <tr>\n",
       "      <th>94</th>\n",
       "      <td>0</td>\n",
       "      <td>0.242951</td>\n",
       "    </tr>\n",
       "    <tr>\n",
       "      <th>151</th>\n",
       "      <td>0</td>\n",
       "      <td>0.242951</td>\n",
       "    </tr>\n",
       "    <tr>\n",
       "      <th>153</th>\n",
       "      <td>0</td>\n",
       "      <td>0.243596</td>\n",
       "    </tr>\n",
       "    <tr>\n",
       "      <th>104</th>\n",
       "      <td>0</td>\n",
       "      <td>0.243596</td>\n",
       "    </tr>\n",
       "    <tr>\n",
       "      <th>17</th>\n",
       "      <td>0</td>\n",
       "      <td>0.243596</td>\n",
       "    </tr>\n",
       "    <tr>\n",
       "      <th>72</th>\n",
       "      <td>0</td>\n",
       "      <td>0.243596</td>\n",
       "    </tr>\n",
       "    <tr>\n",
       "      <th>152</th>\n",
       "      <td>0</td>\n",
       "      <td>0.261918</td>\n",
       "    </tr>\n",
       "    <tr>\n",
       "      <th>14</th>\n",
       "      <td>0</td>\n",
       "      <td>0.268729</td>\n",
       "    </tr>\n",
       "    <tr>\n",
       "      <th>108</th>\n",
       "      <td>0</td>\n",
       "      <td>0.280298</td>\n",
       "    </tr>\n",
       "    <tr>\n",
       "      <th>113</th>\n",
       "      <td>0</td>\n",
       "      <td>0.318556</td>\n",
       "    </tr>\n",
       "    <tr>\n",
       "      <th>28</th>\n",
       "      <td>0</td>\n",
       "      <td>0.318698</td>\n",
       "    </tr>\n",
       "    <tr>\n",
       "      <th>49</th>\n",
       "      <td>0</td>\n",
       "      <td>0.318698</td>\n",
       "    </tr>\n",
       "    <tr>\n",
       "      <th>111</th>\n",
       "      <td>0</td>\n",
       "      <td>0.363030</td>\n",
       "    </tr>\n",
       "    <tr>\n",
       "      <th>150</th>\n",
       "      <td>0</td>\n",
       "      <td>0.391958</td>\n",
       "    </tr>\n",
       "    <tr>\n",
       "      <th>29</th>\n",
       "      <td>0</td>\n",
       "      <td>0.392272</td>\n",
       "    </tr>\n",
       "    <tr>\n",
       "      <th>131</th>\n",
       "      <td>0</td>\n",
       "      <td>0.392272</td>\n",
       "    </tr>\n",
       "    <tr>\n",
       "      <th>16</th>\n",
       "      <td>0</td>\n",
       "      <td>0.392272</td>\n",
       "    </tr>\n",
       "    <tr>\n",
       "      <th>48</th>\n",
       "      <td>0</td>\n",
       "      <td>0.409533</td>\n",
       "    </tr>\n",
       "    <tr>\n",
       "      <th>...</th>\n",
       "      <td>...</td>\n",
       "      <td>...</td>\n",
       "    </tr>\n",
       "    <tr>\n",
       "      <th>86</th>\n",
       "      <td>1</td>\n",
       "      <td>0.602031</td>\n",
       "    </tr>\n",
       "    <tr>\n",
       "      <th>147</th>\n",
       "      <td>1</td>\n",
       "      <td>0.602031</td>\n",
       "    </tr>\n",
       "    <tr>\n",
       "      <th>71</th>\n",
       "      <td>1</td>\n",
       "      <td>0.602031</td>\n",
       "    </tr>\n",
       "    <tr>\n",
       "      <th>120</th>\n",
       "      <td>1</td>\n",
       "      <td>0.603388</td>\n",
       "    </tr>\n",
       "    <tr>\n",
       "      <th>58</th>\n",
       "      <td>1</td>\n",
       "      <td>0.603388</td>\n",
       "    </tr>\n",
       "    <tr>\n",
       "      <th>123</th>\n",
       "      <td>1</td>\n",
       "      <td>0.609901</td>\n",
       "    </tr>\n",
       "    <tr>\n",
       "      <th>102</th>\n",
       "      <td>1</td>\n",
       "      <td>0.609901</td>\n",
       "    </tr>\n",
       "    <tr>\n",
       "      <th>89</th>\n",
       "      <td>1</td>\n",
       "      <td>0.611011</td>\n",
       "    </tr>\n",
       "    <tr>\n",
       "      <th>144</th>\n",
       "      <td>1</td>\n",
       "      <td>0.629106</td>\n",
       "    </tr>\n",
       "    <tr>\n",
       "      <th>60</th>\n",
       "      <td>1</td>\n",
       "      <td>0.629199</td>\n",
       "    </tr>\n",
       "    <tr>\n",
       "      <th>8</th>\n",
       "      <td>1</td>\n",
       "      <td>0.635701</td>\n",
       "    </tr>\n",
       "    <tr>\n",
       "      <th>129</th>\n",
       "      <td>1</td>\n",
       "      <td>0.657420</td>\n",
       "    </tr>\n",
       "    <tr>\n",
       "      <th>39</th>\n",
       "      <td>1</td>\n",
       "      <td>0.658275</td>\n",
       "    </tr>\n",
       "    <tr>\n",
       "      <th>43</th>\n",
       "      <td>1</td>\n",
       "      <td>0.658840</td>\n",
       "    </tr>\n",
       "    <tr>\n",
       "      <th>146</th>\n",
       "      <td>1</td>\n",
       "      <td>0.659172</td>\n",
       "    </tr>\n",
       "    <tr>\n",
       "      <th>63</th>\n",
       "      <td>1</td>\n",
       "      <td>0.659172</td>\n",
       "    </tr>\n",
       "    <tr>\n",
       "      <th>75</th>\n",
       "      <td>1</td>\n",
       "      <td>0.663723</td>\n",
       "    </tr>\n",
       "    <tr>\n",
       "      <th>109</th>\n",
       "      <td>1</td>\n",
       "      <td>0.663723</td>\n",
       "    </tr>\n",
       "    <tr>\n",
       "      <th>20</th>\n",
       "      <td>1</td>\n",
       "      <td>0.666598</td>\n",
       "    </tr>\n",
       "    <tr>\n",
       "      <th>65</th>\n",
       "      <td>1</td>\n",
       "      <td>0.668904</td>\n",
       "    </tr>\n",
       "    <tr>\n",
       "      <th>70</th>\n",
       "      <td>1</td>\n",
       "      <td>0.673172</td>\n",
       "    </tr>\n",
       "    <tr>\n",
       "      <th>106</th>\n",
       "      <td>1</td>\n",
       "      <td>0.698388</td>\n",
       "    </tr>\n",
       "    <tr>\n",
       "      <th>145</th>\n",
       "      <td>1</td>\n",
       "      <td>0.698388</td>\n",
       "    </tr>\n",
       "    <tr>\n",
       "      <th>42</th>\n",
       "      <td>1</td>\n",
       "      <td>0.698388</td>\n",
       "    </tr>\n",
       "    <tr>\n",
       "      <th>78</th>\n",
       "      <td>1</td>\n",
       "      <td>0.698388</td>\n",
       "    </tr>\n",
       "    <tr>\n",
       "      <th>80</th>\n",
       "      <td>1</td>\n",
       "      <td>0.698388</td>\n",
       "    </tr>\n",
       "    <tr>\n",
       "      <th>142</th>\n",
       "      <td>1</td>\n",
       "      <td>0.717486</td>\n",
       "    </tr>\n",
       "    <tr>\n",
       "      <th>83</th>\n",
       "      <td>1</td>\n",
       "      <td>0.746425</td>\n",
       "    </tr>\n",
       "    <tr>\n",
       "      <th>51</th>\n",
       "      <td>1</td>\n",
       "      <td>0.767221</td>\n",
       "    </tr>\n",
       "    <tr>\n",
       "      <th>140</th>\n",
       "      <td>1</td>\n",
       "      <td>0.796746</td>\n",
       "    </tr>\n",
       "  </tbody>\n",
       "</table>\n",
       "<p>155 rows × 2 columns</p>\n",
       "</div>"
      ],
      "text/plain": [
       "     Predicted Outcomes  Probabilities\n",
       "95                    0       0.029007\n",
       "116                   0       0.039756\n",
       "148                   0       0.068227\n",
       "139                   0       0.093016\n",
       "47                    0       0.101334\n",
       "68                    0       0.107609\n",
       "97                    0       0.122060\n",
       "119                   0       0.123496\n",
       "1                     0       0.136732\n",
       "99                    0       0.143720\n",
       "45                    0       0.143865\n",
       "114                   0       0.173740\n",
       "94                    0       0.242951\n",
       "151                   0       0.242951\n",
       "153                   0       0.243596\n",
       "104                   0       0.243596\n",
       "17                    0       0.243596\n",
       "72                    0       0.243596\n",
       "152                   0       0.261918\n",
       "14                    0       0.268729\n",
       "108                   0       0.280298\n",
       "113                   0       0.318556\n",
       "28                    0       0.318698\n",
       "49                    0       0.318698\n",
       "111                   0       0.363030\n",
       "150                   0       0.391958\n",
       "29                    0       0.392272\n",
       "131                   0       0.392272\n",
       "16                    0       0.392272\n",
       "48                    0       0.409533\n",
       "..                  ...            ...\n",
       "86                    1       0.602031\n",
       "147                   1       0.602031\n",
       "71                    1       0.602031\n",
       "120                   1       0.603388\n",
       "58                    1       0.603388\n",
       "123                   1       0.609901\n",
       "102                   1       0.609901\n",
       "89                    1       0.611011\n",
       "144                   1       0.629106\n",
       "60                    1       0.629199\n",
       "8                     1       0.635701\n",
       "129                   1       0.657420\n",
       "39                    1       0.658275\n",
       "43                    1       0.658840\n",
       "146                   1       0.659172\n",
       "63                    1       0.659172\n",
       "75                    1       0.663723\n",
       "109                   1       0.663723\n",
       "20                    1       0.666598\n",
       "65                    1       0.668904\n",
       "70                    1       0.673172\n",
       "106                   1       0.698388\n",
       "145                   1       0.698388\n",
       "42                    1       0.698388\n",
       "78                    1       0.698388\n",
       "80                    1       0.698388\n",
       "142                   1       0.717486\n",
       "83                    1       0.746425\n",
       "51                    1       0.767221\n",
       "140                   1       0.796746\n",
       "\n",
       "[155 rows x 2 columns]"
      ]
     },
     "execution_count": 149,
     "metadata": {},
     "output_type": "execute_result"
    }
   ],
   "source": [
    "ranked_df=pd.DataFrame(predictedGBC)\n",
    "ranked_df['Probabilities'] = prob_class_outcome(probGBC,1)\n",
    "ranked_df.columns=['Predicted Outcomes','Probabilities']\n",
    "ranked_df.sort(columns='Probabilities')"
   ]
  },
  {
   "cell_type": "code",
   "execution_count": 163,
   "metadata": {
    "collapsed": false
   },
   "outputs": [],
   "source": [
    "rank_percentile = np.percentile(ranked_df['Probabilities'],1)"
   ]
  },
  {
   "cell_type": "code",
   "execution_count": 164,
   "metadata": {
    "collapsed": false
   },
   "outputs": [
    {
     "data": {
      "text/plain": [
       "(array([  5.,   7.,   6.,   6.,   6.,  29.,  48.,  29.,  16.,   3.]),\n",
       " array([ 0.02900706,  0.10578098,  0.18255489,  0.2593288 ,  0.33610272,\n",
       "         0.41287663,  0.48965054,  0.56642445,  0.64319837,  0.71997228,\n",
       "         0.79674619]),\n",
       " <a list of 10 Patch objects>)"
      ]
     },
     "execution_count": 164,
     "metadata": {},
     "output_type": "execute_result"
    },
    {
     "data": {
      "image/png": "[encoded data removed]",
      "text/plain": [
       "<matplotlib.figure.Figure at 0x11108bcd0>"
      ]
     },
     "metadata": {},
     "output_type": "display_data"
    }
   ],
   "source": [
    "plt.hist(ranked_df['Probabilities'])"
   ]
  },
  {
   "cell_type": "code",
   "execution_count": 165,
   "metadata": {
    "collapsed": false
   },
   "outputs": [
    {
     "data": {
      "text/plain": [
       "0.055130201134408675"
      ]
     },
     "execution_count": 165,
     "metadata": {},
     "output_type": "execute_result"
    }
   ],
   "source": [
    "rank_percentile"
   ]
  },
  {
   "cell_type": "code",
   "execution_count": null,
   "metadata": {
    "collapsed": true
   },
   "outputs": [],
   "source": []
  },
  {
   "cell_type": "code",
   "execution_count": null,
   "metadata": {
    "collapsed": true
   },
   "outputs": [],
   "source": []
  },
  {
   "cell_type": "code",
   "execution_count": null,
   "metadata": {
    "collapsed": true
   },
   "outputs": [],
   "source": []
  },
  {
   "cell_type": "markdown",
   "metadata": {},
   "source": [
    "### Random Forests"
   ]
  },
  {
   "cell_type": "code",
   "execution_count": null,
   "metadata": {
    "collapsed": false,
    "scrolled": true
   },
   "outputs": [],
   "source": [
    "X_train, X_test, y_train, y_test = train_test_split(X,y, test_size=0.3, random_state=0)\n",
    "modelRandomForest= RandomForestClassifier(class_weight='auto', n_estimators=100)\n",
    "modelRandomForest.fit(X_train, y_train)"
   ]
  },
  {
   "cell_type": "code",
   "execution_count": null,
   "metadata": {
    "collapsed": true,
    "scrolled": true
   },
   "outputs": [],
   "source": [
    "# Random Forest Predictions\n",
    "predictedRF = modelRandomForest.predict(X_train)\n",
    "probs = modelRandomForest.predict_proba(X_train)"
   ]
  },
  {
   "cell_type": "code",
   "execution_count": null,
   "metadata": {
    "collapsed": false
   },
   "outputs": [],
   "source": [
    "# Look at precision/recall and confusion matrix\n",
    "\n",
    "print confusion_matrix(y_train,predictedRF)\n",
    "print classification_report(y_train,predictedRF)"
   ]
  },
  {
   "cell_type": "code",
   "execution_count": null,
   "metadata": {
    "collapsed": false
   },
   "outputs": [],
   "source": [
    "param_grid = {\"max_depth\": [3, None],\n",
    "              \"max_features\": [1, 3, 10],\n",
    "              \"min_samples_split\": [1, 3, 10],\n",
    "              \"min_samples_leaf\": [1, 3, 10],\n",
    "              \"bootstrap\": [True, False],\n",
    "              \"criterion\": [\"gini\", \"entropy\"]}"
   ]
  },
  {
   "cell_type": "code",
   "execution_count": null,
   "metadata": {
    "collapsed": true
   },
   "outputs": [],
   "source": [
    "grid_search = GridSearchCV(modelRandomForest, param_grid=param_grid)"
   ]
  },
  {
   "cell_type": "code",
   "execution_count": null,
   "metadata": {
    "collapsed": false
   },
   "outputs": [],
   "source": [
    "for params, mean_score, scores in ZZ.grid_scores_:\n",
    "        print(\"%0.3f (+/-%0.03f) for %r\"%(mean_score, scores.std() * 2, params))"
   ]
  },
  {
   "cell_type": "code",
   "execution_count": null,
   "metadata": {
    "collapsed": false
   },
   "outputs": [],
   "source": [
    "ZZ=grid_search.fit(X_train,y_train)"
   ]
  },
  {
   "cell_type": "code",
   "execution_count": null,
   "metadata": {
    "collapsed": false
   },
   "outputs": [],
   "source": [
    "ZZ.best_params_"
   ]
  },
  {
   "cell_type": "code",
   "execution_count": null,
   "metadata": {
    "collapsed": true
   },
   "outputs": [],
   "source": [
    "XX=ZZ.predict(X_test)"
   ]
  },
  {
   "cell_type": "code",
   "execution_count": null,
   "metadata": {
    "collapsed": false
   },
   "outputs": [],
   "source": [
    "print confusion_matrix(y_test,XX)\n",
    "print classification_report(y_test,XX)"
   ]
  }
 ],
 "metadata": {
  "kernelspec": {
   "display_name": "Python 2",
   "language": "python",
   "name": "python2"
  },
  "language_info": {
   "codemirror_mode": {
    "name": "ipython",
    "version": 2
   },
   "file_extension": ".py",
   "mimetype": "text/x-python",
   "name": "python",
   "nbconvert_exporter": "python",
   "pygments_lexer": "ipython2",
   "version": "2.7.10"
  }
 },
 "nbformat": 4,
 "nbformat_minor": 0
}
