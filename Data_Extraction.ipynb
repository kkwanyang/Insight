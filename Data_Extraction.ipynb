{
 "cells": [
  {
   "cell_type": "code",
   "execution_count": 1,
   "metadata": {
    "collapsed": false,
    "scrolled": false
   },
   "outputs": [],
   "source": [
    "%matplotlib inline\n",
    "import seaborn as sns\n",
    "import numpy as np\n",
    "import pandas as pd\n",
    "import csv\n",
    "import datetime\n",
    "import matplotlib.pyplot as plt\n",
    "from datapathfile import path_lookup_dir, datafile"
   ]
  },
  {
   "cell_type": "code",
   "execution_count": 2,
   "metadata": {
    "collapsed": true,
    "scrolled": false
   },
   "outputs": [],
   "source": [
    "def listcolumn(x):\n",
    "    x = x.translate(None, '\"')\n",
    "    x = x.translate(None, ' ')\n",
    "    x = x[1:-1].split(\",\")\n",
    "    j = x[-1]\n",
    "    return j"
   ]
  },
  {
   "cell_type": "code",
   "execution_count": 3,
   "metadata": {
    "collapsed": true,
    "scrolled": false
   },
   "outputs": [],
   "source": [
    "def TrueFalse(value):\n",
    "    if value[0]=='F':\n",
    "        value = False\n",
    "    else:\n",
    "        value = True\n",
    "    return value"
   ]
  },
  {
   "cell_type": "code",
   "execution_count": 4,
   "metadata": {
    "collapsed": false
   },
   "outputs": [],
   "source": [
    "reader = list(csv.reader(open(path_lookup_dir+datafile, 'rb'), delimiter='\\t'))\n",
    "colheaders = reader[0] \n",
    "df = pd.DataFrame(reader[1:])\n",
    "dffilter = df.iloc[:, 0:20]\n",
    "dffilter.columns = [colheaders]"
   ]
  },
  {
   "cell_type": "code",
   "execution_count": 5,
   "metadata": {
    "collapsed": false,
    "scrolled": true
   },
   "outputs": [
    {
     "data": {
      "text/plain": [
       "array(['False', 'False2015-05-16 00:01:18', 'False2015-05-17 06:47:28',\n",
       "       ..., 'False2015-07-24 16:45:05', 'False2015-07-24 16:51:24',\n",
       "       'False2015-07-24 17:20:35'], dtype=object)"
      ]
     },
     "execution_count": 5,
     "metadata": {},
     "output_type": "execute_result"
    }
   ],
   "source": [
    "dffilter['installed'].unique()"
   ]
  },
  {
   "cell_type": "code",
   "execution_count": 6,
   "metadata": {
    "collapsed": true
   },
   "outputs": [],
   "source": [
    "df = dffilter"
   ]
  },
  {
   "cell_type": "code",
   "execution_count": 7,
   "metadata": {
    "collapsed": false
   },
   "outputs": [],
   "source": [
    "df['impression'] = df['impression'].apply(TrueFalse)"
   ]
  },
  {
   "cell_type": "code",
   "execution_count": 8,
   "metadata": {
    "collapsed": false
   },
   "outputs": [],
   "source": [
    "df['clicked'] = df['clicked'].apply(TrueFalse)"
   ]
  },
  {
   "cell_type": "code",
   "execution_count": 9,
   "metadata": {
    "collapsed": false
   },
   "outputs": [],
   "source": [
    "df.ix[:, 'datetime'] = pd.to_datetime(df['datetime'], format=\"%Y-%m-%d %H:%M:%S\")\n",
    "df.ix[:, 'app_type'] = df['app_categories'].apply(listcolumn)\n"
   ]
  },
  {
   "cell_type": "code",
   "execution_count": 10,
   "metadata": {
    "collapsed": false
   },
   "outputs": [],
   "source": [
    "drop_index=df[np.logical_and(\n",
    "        np.logical_and(df['impression'], df['installed']),\n",
    "        ~ df['clicked'])].index\n",
    "empty_index = np.where(df['app_type'] == '')\n",
    "ul_index = np.where(df['app_type'] == 'ul')\n",
    "df = df.drop(df.index[empty_index])\n",
    "df = df.drop(df.index[ul_index])\n",
    "df = df.drop(df.index[drop_index])"
   ]
  },
  {
   "cell_type": "code",
   "execution_count": 11,
   "metadata": {
    "collapsed": true
   },
   "outputs": [],
   "source": [
    "df['weekday'] = df['datetime'].map(lambda x: x.isoweekday())\n",
    "df['hours'] = df['datetime'].map(lambda x: x.hour)\n",
    "df.ix[:, 'week'] = df['datetime'].map(lambda x:x.isocalendar()[1])"
   ]
  },
  {
   "cell_type": "code",
   "execution_count": 12,
   "metadata": {
    "collapsed": true
   },
   "outputs": [],
   "source": [
    "impressiondf = df.groupby('city')['impression','clicked'].sum()\n",
    "impression_index = impressiondf[impressiondf['impression'] > 5].index"
   ]
  },
  {
   "cell_type": "code",
   "execution_count": 13,
   "metadata": {
    "collapsed": false
   },
   "outputs": [],
   "source": [
    "df=df[df.city.isin(impression_index)]"
   ]
  },
  {
   "cell_type": "code",
   "execution_count": 14,
   "metadata": {
    "collapsed": true
   },
   "outputs": [],
   "source": [
    "filename='ATA_data.csv'"
   ]
  },
  {
   "cell_type": "code",
   "execution_count": 15,
   "metadata": {
    "collapsed": true
   },
   "outputs": [],
   "source": [
    "df.to_csv(filename)"
   ]
  },
  {
   "cell_type": "code",
   "execution_count": null,
   "metadata": {
    "collapsed": true
   },
   "outputs": [],
   "source": []
  },
  {
   "cell_type": "code",
   "execution_count": null,
   "metadata": {
    "collapsed": true
   },
   "outputs": [],
   "source": []
  }
 ],
 "metadata": {
  "kernelspec": {
   "display_name": "Python 2",
   "language": "python",
   "name": "python2"
  },
  "language_info": {
   "codemirror_mode": {
    "name": "ipython",
    "version": 2
   },
   "file_extension": ".py",
   "mimetype": "text/x-python",
   "name": "python",
   "nbconvert_exporter": "python",
   "pygments_lexer": "ipython2",
   "version": "2.7.10"
  }
 },
 "nbformat": 4,
 "nbformat_minor": 0
}
