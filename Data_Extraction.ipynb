{
 "cells": [
  {
   "cell_type": "code",
   "execution_count": 47,
   "metadata": {
    "collapsed": false,
    "scrolled": false
   },
   "outputs": [],
   "source": [
    "import numpy as np\n",
    "import pandas as pd\n",
    "import csv\n",
    "import datetime\n",
    "from datapathfile import path_lookup_dir, datafile\n",
    "import re"
   ]
  },
  {
   "cell_type": "code",
   "execution_count": 48,
   "metadata": {
    "collapsed": false
   },
   "outputs": [
    {
     "data": {
      "text/plain": [
       "'rtb_data.csv'"
      ]
     },
     "execution_count": 48,
     "metadata": {},
     "output_type": "execute_result"
    }
   ],
   "source": [
    "datafile"
   ]
  },
  {
   "cell_type": "code",
   "execution_count": 49,
   "metadata": {
    "collapsed": true,
    "scrolled": false
   },
   "outputs": [],
   "source": [
    "def listcolumn(x):\n",
    "    x = x.translate(None, '\"')\n",
    "    x = x.translate(None, ' ')\n",
    "    x = x[1:-1].split(\",\")\n",
    "    j = x[-1]\n",
    "    return j"
   ]
  },
  {
   "cell_type": "code",
   "execution_count": 50,
   "metadata": {
    "collapsed": true,
    "scrolled": false
   },
   "outputs": [],
   "source": [
    "def TrueFalse(value):\n",
    "    if value[0]=='F':\n",
    "        value = False\n",
    "    else:\n",
    "        value = True\n",
    "    return value"
   ]
  },
  {
   "cell_type": "code",
   "execution_count": 51,
   "metadata": {
    "collapsed": true
   },
   "outputs": [],
   "source": [
    "def Model(device):\n",
    "    if device[0]=='F':\n",
    "        value = False\n",
    "    else:\n",
    "        value = True\n",
    "    return value"
   ]
  },
  {
   "cell_type": "code",
   "execution_count": 52,
   "metadata": {
    "collapsed": true
   },
   "outputs": [],
   "source": [
    "filename='ATA_data.csv'"
   ]
  },
  {
   "cell_type": "code",
   "execution_count": 53,
   "metadata": {
    "collapsed": false
   },
   "outputs": [],
   "source": [
    "reader = list(csv.reader(open(path_lookup_dir+datafile, 'rb'), delimiter='\\t'))\n",
    "colheaders = reader[0] \n",
    "clean_reader = [r[0:20] for r in reader]\n",
    "df = pd.DataFrame(clean_reader)\n",
    "df.columns = [colheaders]\n",
    "df.drop(0,axis=0, inplace= True)"
   ]
  },
  {
   "cell_type": "code",
   "execution_count": 54,
   "metadata": {
    "collapsed": false,
    "scrolled": true
   },
   "outputs": [
    {
     "data": {
      "text/plain": [
       "1"
      ]
     },
     "execution_count": 54,
     "metadata": {},
     "output_type": "execute_result"
    }
   ],
   "source": [
    "len(df['advertiser_bundle_id'].unique())"
   ]
  },
  {
   "cell_type": "code",
   "execution_count": 55,
   "metadata": {
    "collapsed": false,
    "scrolled": false
   },
   "outputs": [],
   "source": [
    "df.drop(['advertiser_bundle_id','creative_id','app_id','bidadop_id','device_idfa'],1, inplace= True)"
   ]
  },
  {
   "cell_type": "code",
   "execution_count": 56,
   "metadata": {
    "collapsed": false
   },
   "outputs": [],
   "source": [
    "def device_filter(text):\n",
    "    text = str(text)\n",
    "    if 'iPhone' in text:\n",
    "        return 'Phone'\n",
    "    elif 'iPod'in text:\n",
    "        return 'Music Player'\n",
    "    else:\n",
    "        return 'Tablet'"
   ]
  },
  {
   "cell_type": "code",
   "execution_count": 57,
   "metadata": {
    "collapsed": false,
    "scrolled": true
   },
   "outputs": [],
   "source": [
    "df['device'] = pd.Series(df['model'].map(device_filter))"
   ]
  },
  {
   "cell_type": "code",
   "execution_count": 58,
   "metadata": {
    "collapsed": false
   },
   "outputs": [],
   "source": [
    "df['impression'] = df['impression'].apply(TrueFalse)\n",
    "df['installed'] = df['installed'].apply(TrueFalse)\n",
    "df['clicked'] = df['clicked'].apply(TrueFalse)"
   ]
  },
  {
   "cell_type": "code",
   "execution_count": 59,
   "metadata": {
    "collapsed": false
   },
   "outputs": [],
   "source": [
    "df.ix[:, 'datetime'] = pd.to_datetime(df['datetime'], format=\"%Y-%m-%d %H:%M:%S\")\n",
    "df.ix[:, 'app_type'] = df['app_categories'].apply(listcolumn)\n"
   ]
  },
  {
   "cell_type": "code",
   "execution_count": 60,
   "metadata": {
    "collapsed": true
   },
   "outputs": [],
   "source": [
    "drop_index=df[np.logical_and(\n",
    "        np.logical_and(df['impression'], df['installed']),\n",
    "        ~ df['clicked'])].index"
   ]
  },
  {
   "cell_type": "code",
   "execution_count": 61,
   "metadata": {
    "collapsed": false
   },
   "outputs": [],
   "source": [
    "empty_index = np.where(df['app_type'] == '')\n",
    "ul_index = np.where(df['app_type'] == 'ul')\n",
    "df = df.drop(df.index[empty_index])\n",
    "df = df.drop(df.index[ul_index])\n",
    "df = df.drop(df.index[drop_index])"
   ]
  },
  {
   "cell_type": "code",
   "execution_count": 62,
   "metadata": {
    "collapsed": true
   },
   "outputs": [],
   "source": [
    "df['weekday'] = df['datetime'].map(lambda x: x.isoweekday())\n",
    "df['hours'] = df['datetime'].map(lambda x: x.hour)\n",
    "df.ix[:, 'week'] = df['datetime'].map(lambda x:x.isocalendar()[1])"
   ]
  },
  {
   "cell_type": "code",
   "execution_count": 63,
   "metadata": {
    "collapsed": true
   },
   "outputs": [],
   "source": [
    "df['osv'] = df['osv'].map(lambda x: int(x[0]))"
   ]
  },
  {
   "cell_type": "code",
   "execution_count": 64,
   "metadata": {
    "collapsed": false
   },
   "outputs": [
    {
     "data": {
      "text/plain": [
       "Index([u'datetime', u'ad_id', u'app_name', u'app_categories',\n",
       "       u'publisher_name', u'os', u'osv', u'make', u'model', u'country',\n",
       "       u'city', u'language', u'impression', u'clicked', u'installed',\n",
       "       u'device', u'app_type', u'weekday', u'hours', u'week'],\n",
       "      dtype='object')"
      ]
     },
     "execution_count": 64,
     "metadata": {},
     "output_type": "execute_result"
    }
   ],
   "source": [
    "df.columns"
   ]
  },
  {
   "cell_type": "code",
   "execution_count": 65,
   "metadata": {
    "collapsed": true
   },
   "outputs": [],
   "source": [
    "impressiondf = df.groupby('city')['impression','clicked'].sum()\n",
    "impression_index = impressiondf[impressiondf['impression'] > 5].index"
   ]
  },
  {
   "cell_type": "code",
   "execution_count": null,
   "metadata": {
    "collapsed": true
   },
   "outputs": [],
   "source": []
  },
  {
   "cell_type": "code",
   "execution_count": 66,
   "metadata": {
    "collapsed": true
   },
   "outputs": [],
   "source": [
    "df.to_csv(filename)"
   ]
  },
  {
   "cell_type": "code",
   "execution_count": null,
   "metadata": {
    "collapsed": false
   },
   "outputs": [],
   "source": [
    "filename"
   ]
  },
  {
   "cell_type": "code",
   "execution_count": null,
   "metadata": {
    "collapsed": true
   },
   "outputs": [],
   "source": []
  }
 ],
 "metadata": {
  "kernelspec": {
   "display_name": "Python 2",
   "language": "python",
   "name": "python2"
  },
  "language_info": {
   "codemirror_mode": {
    "name": "ipython",
    "version": 2
   },
   "file_extension": ".py",
   "mimetype": "text/x-python",
   "name": "python",
   "nbconvert_exporter": "python",
   "pygments_lexer": "ipython2",
   "version": "2.7.10"
  }
 },
 "nbformat": 4,
 "nbformat_minor": 0
}
