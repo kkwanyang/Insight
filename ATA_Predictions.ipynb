{
 "cells": [
  {
   "cell_type": "markdown",
   "metadata": {},
   "source": [
    "# Loading Modules"
   ]
  },
  {
   "cell_type": "code",
   "execution_count": 1,
   "metadata": {
    "collapsed": false,
    "scrolled": true
   },
   "outputs": [],
   "source": [
    "from matplotlib import interactive\n",
    "import seaborn as sns\n",
    "import numpy as np\n",
    "import pandas as pd\n",
    "import csv\n",
    "import datetime\n",
    "import matplotlib.pyplot as plt\n",
    "from sklearn.utils import resample\n",
    "from sklearn.metrics import confusion_matrix, classification_report, recall_score, precision_recall_curve\n",
    "from sklearn.cross_validation import train_test_split, cross_val_score, KFold\n",
    "from patsy import dmatrices\n",
    "from sklearn.ensemble import RandomForestClassifier\n",
    "from sklearn.linear_model import LogisticRegression, LogisticRegressionCV\n",
    "from sklearn.naive_bayes import BernoulliNB\n",
    "from sklearn.grid_search import GridSearchCV\n",
    "import statsmodels.api as sm\n",
    "from sklearn.ensemble import GradientBoostingClassifier\n",
    "from sklearn.svm import LinearSVC"
   ]
  },
  {
   "cell_type": "code",
   "execution_count": 2,
   "metadata": {
    "collapsed": true
   },
   "outputs": [],
   "source": [
    "def prob_adjusted_outcome(model_probabilities,threshold):\n",
    "    y_adjusted=[]\n",
    "    for prob in model_probabilities:\n",
    "        if prob[1] > threshold:\n",
    "            y_adjusted.append(True)\n",
    "        else:\n",
    "            y_adjusted.append(False)\n",
    "    return y_adjusted"
   ]
  },
  {
   "cell_type": "markdown",
   "metadata": {},
   "source": [
    "# Loading Dataset and Reordering Data"
   ]
  },
  {
   "cell_type": "code",
   "execution_count": 3,
   "metadata": {
    "collapsed": true
   },
   "outputs": [],
   "source": [
    "filename='ATA_data.csv'\n",
    "\n",
    "df = pd.read_csv(filename)\n",
    "df=df.drop('Unnamed: 0',1)\n",
    "\n",
    "df.columns.unique()\n",
    "\n",
    "cats_to_keep=['entertainment', 'games', 'lifestyle', 'music', 'photography', 'productivity', \n",
    "             'social_networking', 'sports', 'travel', 'utilities']\n",
    "\n",
    "df=df[df.app_type.isin(cats_to_keep)]"
   ]
  },
  {
   "cell_type": "markdown",
   "metadata": {},
   "source": [
    "#### Taking interesting features"
   ]
  },
  {
   "cell_type": "code",
   "execution_count": 4,
   "metadata": {
    "collapsed": false
   },
   "outputs": [],
   "source": [
    "cols_to_keep=['installed','clicked','impression','app_type','weekday','hours','model','country','publisher_name','language','app_name']\n",
    "filtered_df=df[cols_to_keep]"
   ]
  },
  {
   "cell_type": "markdown",
   "metadata": {},
   "source": [
    "### Downsampling, remove the majority class by user set percentage"
   ]
  },
  {
   "cell_type": "code",
   "execution_count": 5,
   "metadata": {
    "collapsed": false,
    "scrolled": true
   },
   "outputs": [],
   "source": [
    "target_downsampling = 0.50;\n",
    "\n",
    "False_df=filtered_df[filtered_df['installed'] == False]\n",
    "Truth_df=filtered_df[filtered_df['installed'] == True]\n",
    "\n",
    "downsampling=int(np.round((Truth_df.shape[0]/target_downsampling)*(1-target_downsampling)))\n",
    "\n",
    "#Downsampling by target downsample rate\n",
    "Downsampled_False=resample(False_df, n_samples=downsampling, random_state=0, replace = False)\n",
    "\n",
    "# Merge the downsampled False with total True outcomes\n",
    "less_imbalance=pd.concat([Downsampled_False,Truth_df])"
   ]
  },
  {
   "cell_type": "code",
   "execution_count": 6,
   "metadata": {
    "collapsed": false
   },
   "outputs": [],
   "source": [
    "#No downsampling dataset\n",
    "clean_data=filtered_df"
   ]
  },
  {
   "cell_type": "markdown",
   "metadata": {},
   "source": [
    "## Creating the dummy variables."
   ]
  },
  {
   "cell_type": "markdown",
   "metadata": {},
   "source": [
    "### Quick dirty comparison of AUC of ROC "
   ]
  },
  {
   "cell_type": "markdown",
   "metadata": {},
   "source": [
    "<p> Comparing the ROC_AUC of the complete dataset vs. downsampled dataset. This is used as an indication of model stability. </p>"
   ]
  },
  {
   "cell_type": "markdown",
   "metadata": {},
   "source": [
    "<p> "
   ]
  },
  {
   "cell_type": "markdown",
   "metadata": {},
   "source": [
    "Use patsy to create the dummy variable"
   ]
  },
  {
   "cell_type": "code",
   "execution_count": 7,
   "metadata": {
    "collapsed": false,
    "scrolled": true
   },
   "outputs": [],
   "source": [
    "y_com,X_com = dmatrices('installed ~ hours + C(weekday) + C(app_type) + C(model) + C(country) + C(publisher_name) + C(language) + C(app_name)'\n",
    "               ,less_imbalance, return_type='dataframe'\n",
    "               )"
   ]
  },
  {
   "cell_type": "code",
   "execution_count": 8,
   "metadata": {
    "collapsed": false
   },
   "outputs": [],
   "source": [
    "y_com=np.ravel(y_com.iloc[:,1:])"
   ]
  },
  {
   "cell_type": "code",
   "execution_count": 9,
   "metadata": {
    "collapsed": false
   },
   "outputs": [
    {
     "data": {
      "text/plain": [
       "array([ 0.,  0.,  0., ...,  1.,  1.,  1.])"
      ]
     },
     "execution_count": 9,
     "metadata": {},
     "output_type": "execute_result"
    }
   ],
   "source": [
    "y_com"
   ]
  },
  {
   "cell_type": "code",
   "execution_count": 10,
   "metadata": {
    "collapsed": false
   },
   "outputs": [],
   "source": [
    "roc_auc_com= cross_val_score(LogisticRegression(class_weight='auto', fit_intercept=False),\n",
    "                          X_com, y_com, scoring='roc_auc', cv =5)"
   ]
  },
  {
   "cell_type": "code",
   "execution_count": 11,
   "metadata": {
    "collapsed": false
   },
   "outputs": [
    {
     "data": {
      "text/plain": [
       "array([ 0.62480749,  0.72387839,  0.74818688,  0.77814556,  0.70591584])"
      ]
     },
     "execution_count": 11,
     "metadata": {},
     "output_type": "execute_result"
    }
   ],
   "source": [
    "roc_auc_com"
   ]
  },
  {
   "cell_type": "code",
   "execution_count": 12,
   "metadata": {
    "collapsed": false
   },
   "outputs": [],
   "source": [
    "y,X = dmatrices('installed ~ hours + C(weekday) + C(app_type)'\n",
    "               ,less_imbalance, return_type='dataframe'\n",
    "               )"
   ]
  },
  {
   "cell_type": "code",
   "execution_count": 13,
   "metadata": {
    "collapsed": true
   },
   "outputs": [],
   "source": [
    "y=np.ravel(y.iloc[:,1:])"
   ]
  },
  {
   "cell_type": "code",
   "execution_count": 14,
   "metadata": {
    "collapsed": false
   },
   "outputs": [],
   "source": [
    "roc_auc_dsampled= cross_val_score(LogisticRegression(class_weight='auto', fit_intercept=False),\n",
    "                          X, y, scoring='roc_auc', cv =5)"
   ]
  },
  {
   "cell_type": "code",
   "execution_count": 15,
   "metadata": {
    "collapsed": false
   },
   "outputs": [
    {
     "name": "stdout",
     "output_type": "stream",
     "text": [
      "0.156857732562\n"
     ]
    }
   ],
   "source": [
    "roc_auc_diff= np.mean(roc_auc_com - roc_auc_dsampled)\n",
    "print roc_auc_diff"
   ]
  },
  {
   "cell_type": "markdown",
   "metadata": {},
   "source": [
    "## Running different models."
   ]
  },
  {
   "cell_type": "code",
   "execution_count": null,
   "metadata": {
    "collapsed": false
   },
   "outputs": [],
   "source": [
    "rm=[LogisticRegression(fit_intercept=False), RandomForestClassifier(), LinearSVC(), GradientBoostingClassifier(max_depth=3)]\n",
    "cvs=5\n",
    "model_aucs=np.empty((len(rm),cvs))\n",
    "model_recalls=np.empty((len(rm),cvs))\n",
    "model_precision=np.empty((len(rm),cvs))\n",
    "\n",
    "for i,models in enumerate(rm):\n",
    "    \n",
    "    model_recalls[i,:] = cross_val_score(models, X, y, scoring = 'recall', cv = cvs)\n",
    "    model_precision[i,:] = cross_val_score(models, X, y, scoring = 'precision', cv = cvs)\n",
    "    model_aucs[i,:] = cross_val_score(models, X, y, scoring = 'roc_auc', cv = cvs)\n"
   ]
  },
  {
   "cell_type": "code",
   "execution_count": null,
   "metadata": {
    "collapsed": false
   },
   "outputs": [],
   "source": [
    "model_precision"
   ]
  },
  {
   "cell_type": "code",
   "execution_count": null,
   "metadata": {
    "collapsed": false
   },
   "outputs": [],
   "source": [
    "summary_matrices = np.empty((6,len(rm)))\n",
    "summary_matrices[0, :] = np.mean(model_recalls, axis=1)\n",
    "summary_matrices[1, :] = np.std(model_recalls, axis = 1)\n",
    "summary_matrices[2, :] = np.mean(model_precision, axis=1)\n",
    "summary_matrices[3, :] = np.std(model_precision, axis = 1)\n",
    "summary_matrices[4, :] = np.mean(model_aucs, axis=1)\n",
    "summary_matrices[5, :] = np.std(model_aucs, axis = 1)\n",
    "print summary_matrices"
   ]
  },
  {
   "cell_type": "code",
   "execution_count": null,
   "metadata": {
    "collapsed": false
   },
   "outputs": [],
   "source": [
    "summary_df=pd.DataFrame(summary_matrices)\n",
    "summary_df.columns=['Logistic Regression', 'Random Forest', 'Linear SVC', 'GradientBoostClassifier']\n",
    "summary_df.index=['Recall mean', 'Recall std', 'Precision mean', 'Precision std', 'ROC_AUC mean', 'ROC_AUC std']"
   ]
  },
  {
   "cell_type": "code",
   "execution_count": null,
   "metadata": {
    "collapsed": false
   },
   "outputs": [],
   "source": [
    "summary_df"
   ]
  },
  {
   "cell_type": "code",
   "execution_count": null,
   "metadata": {
    "collapsed": true
   },
   "outputs": [],
   "source": []
  },
  {
   "cell_type": "markdown",
   "metadata": {},
   "source": [
    "#### Using 90% of data to train."
   ]
  },
  {
   "cell_type": "code",
   "execution_count": 16,
   "metadata": {
    "collapsed": true,
    "scrolled": true
   },
   "outputs": [],
   "source": [
    "X_train, X_test, y_train, y_test = train_test_split(X_com, y_com, test_size=0.1, random_state=0)"
   ]
  },
  {
   "cell_type": "markdown",
   "metadata": {},
   "source": [
    "## Logistic Regression "
   ]
  },
  {
   "cell_type": "code",
   "execution_count": 17,
   "metadata": {
    "collapsed": false,
    "scrolled": true
   },
   "outputs": [],
   "source": [
    "modelLogR2 = LogisticRegression(class_weight='auto',fit_intercept=False);\n",
    "modelLogR2.fit(X_train, y_train);"
   ]
  },
  {
   "cell_type": "code",
   "execution_count": 18,
   "metadata": {
    "collapsed": false,
    "scrolled": true
   },
   "outputs": [
    {
     "data": {
      "text/html": [
       "<div>\n",
       "<table border=\"1\" class=\"dataframe\">\n",
       "  <thead>\n",
       "    <tr style=\"text-align: right;\">\n",
       "      <th></th>\n",
       "      <th>0</th>\n",
       "      <th>1</th>\n",
       "    </tr>\n",
       "  </thead>\n",
       "  <tbody>\n",
       "    <tr>\n",
       "      <th>0</th>\n",
       "      <td>Intercept</td>\n",
       "      <td>[-1.01968882484]</td>\n",
       "    </tr>\n",
       "    <tr>\n",
       "      <th>1</th>\n",
       "      <td>C(weekday)[T.2]</td>\n",
       "      <td>[0.0236734393796]</td>\n",
       "    </tr>\n",
       "    <tr>\n",
       "      <th>2</th>\n",
       "      <td>C(weekday)[T.3]</td>\n",
       "      <td>[-0.221296974624]</td>\n",
       "    </tr>\n",
       "    <tr>\n",
       "      <th>3</th>\n",
       "      <td>C(weekday)[T.4]</td>\n",
       "      <td>[-0.186843372066]</td>\n",
       "    </tr>\n",
       "    <tr>\n",
       "      <th>4</th>\n",
       "      <td>C(weekday)[T.5]</td>\n",
       "      <td>[-0.0227782555788]</td>\n",
       "    </tr>\n",
       "    <tr>\n",
       "      <th>5</th>\n",
       "      <td>C(weekday)[T.6]</td>\n",
       "      <td>[-0.0430284557223]</td>\n",
       "    </tr>\n",
       "    <tr>\n",
       "      <th>6</th>\n",
       "      <td>C(weekday)[T.7]</td>\n",
       "      <td>[0.0403258491747]</td>\n",
       "    </tr>\n",
       "    <tr>\n",
       "      <th>7</th>\n",
       "      <td>C(app_type)[T.games]</td>\n",
       "      <td>[0.544265196089]</td>\n",
       "    </tr>\n",
       "    <tr>\n",
       "      <th>8</th>\n",
       "      <td>C(app_type)[T.lifestyle]</td>\n",
       "      <td>[-0.208480088555]</td>\n",
       "    </tr>\n",
       "    <tr>\n",
       "      <th>9</th>\n",
       "      <td>C(app_type)[T.music]</td>\n",
       "      <td>[-0.225244779406]</td>\n",
       "    </tr>\n",
       "    <tr>\n",
       "      <th>10</th>\n",
       "      <td>C(app_type)[T.photography]</td>\n",
       "      <td>[0.253652883238]</td>\n",
       "    </tr>\n",
       "    <tr>\n",
       "      <th>11</th>\n",
       "      <td>C(app_type)[T.productivity]</td>\n",
       "      <td>[-0.274400680022]</td>\n",
       "    </tr>\n",
       "    <tr>\n",
       "      <th>12</th>\n",
       "      <td>C(app_type)[T.social_networking]</td>\n",
       "      <td>[-0.212546509238]</td>\n",
       "    </tr>\n",
       "    <tr>\n",
       "      <th>13</th>\n",
       "      <td>C(app_type)[T.sports]</td>\n",
       "      <td>[-0.264238202446]</td>\n",
       "    </tr>\n",
       "    <tr>\n",
       "      <th>14</th>\n",
       "      <td>C(app_type)[T.travel]</td>\n",
       "      <td>[0.124473598893]</td>\n",
       "    </tr>\n",
       "    <tr>\n",
       "      <th>15</th>\n",
       "      <td>C(app_type)[T.utilities]</td>\n",
       "      <td>[0.086510741943]</td>\n",
       "    </tr>\n",
       "    <tr>\n",
       "      <th>16</th>\n",
       "      <td>C(model)[T.iPad 2 (WiFi)]</td>\n",
       "      <td>[0.578167217361]</td>\n",
       "    </tr>\n",
       "    <tr>\n",
       "      <th>17</th>\n",
       "      <td>C(model)[T.iPad 3 (WiFi)]</td>\n",
       "      <td>[0.0288259592453]</td>\n",
       "    </tr>\n",
       "    <tr>\n",
       "      <th>18</th>\n",
       "      <td>C(model)[T.iPad 4 (WiFi)]</td>\n",
       "      <td>[-0.179455641952]</td>\n",
       "    </tr>\n",
       "    <tr>\n",
       "      <th>19</th>\n",
       "      <td>C(model)[T.iPad Air (WiFi)]</td>\n",
       "      <td>[-0.551583791666]</td>\n",
       "    </tr>\n",
       "    <tr>\n",
       "      <th>20</th>\n",
       "      <td>C(model)[T.iPad Mini (WiFi)]</td>\n",
       "      <td>[0.502648283491]</td>\n",
       "    </tr>\n",
       "    <tr>\n",
       "      <th>21</th>\n",
       "      <td>C(model)[T.iPhone]</td>\n",
       "      <td>[-0.122291814198]</td>\n",
       "    </tr>\n",
       "    <tr>\n",
       "      <th>22</th>\n",
       "      <td>C(model)[T.iPhone 4]</td>\n",
       "      <td>[-0.0473348888981]</td>\n",
       "    </tr>\n",
       "    <tr>\n",
       "      <th>23</th>\n",
       "      <td>C(model)[T.iPhone 4 (CDMA)]</td>\n",
       "      <td>[0.140262978598]</td>\n",
       "    </tr>\n",
       "    <tr>\n",
       "      <th>24</th>\n",
       "      <td>C(model)[T.iPhone 4 (GSM)]</td>\n",
       "      <td>[0.0480810067536]</td>\n",
       "    </tr>\n",
       "    <tr>\n",
       "      <th>25</th>\n",
       "      <td>C(model)[T.iPhone 4S]</td>\n",
       "      <td>[0.0970560842165]</td>\n",
       "    </tr>\n",
       "    <tr>\n",
       "      <th>26</th>\n",
       "      <td>C(model)[T.iPhone 5 (GSM)]</td>\n",
       "      <td>[-0.360385558131]</td>\n",
       "    </tr>\n",
       "    <tr>\n",
       "      <th>27</th>\n",
       "      <td>C(model)[T.iPhone 5 (GSM+CDMA)]</td>\n",
       "      <td>[-0.155095951537]</td>\n",
       "    </tr>\n",
       "    <tr>\n",
       "      <th>28</th>\n",
       "      <td>C(model)[T.iPhone 5c (GSM)]</td>\n",
       "      <td>[-0.245309535539]</td>\n",
       "    </tr>\n",
       "    <tr>\n",
       "      <th>29</th>\n",
       "      <td>C(model)[T.iPhone 5s (GSM)]</td>\n",
       "      <td>[-0.345506027291]</td>\n",
       "    </tr>\n",
       "    <tr>\n",
       "      <th>...</th>\n",
       "      <td>...</td>\n",
       "      <td>...</td>\n",
       "    </tr>\n",
       "    <tr>\n",
       "      <th>380</th>\n",
       "      <td>C(app_name)[T.Top Gear: Race the Stig {1976}]</td>\n",
       "      <td>[0.549463632271]</td>\n",
       "    </tr>\n",
       "    <tr>\n",
       "      <th>381</th>\n",
       "      <td>C(app_name)[T.Trivia Crack iOS]</td>\n",
       "      <td>[-0.711771234879]</td>\n",
       "    </tr>\n",
       "    <tr>\n",
       "      <th>382</th>\n",
       "      <td>C(app_name)[T.TubePlayer Free for YouTube]</td>\n",
       "      <td>[-0.236386500403]</td>\n",
       "    </tr>\n",
       "    <tr>\n",
       "      <th>383</th>\n",
       "      <td>C(app_name)[T.Tubify for SoundCloud]</td>\n",
       "      <td>[0.559281753818]</td>\n",
       "    </tr>\n",
       "    <tr>\n",
       "      <th>384</th>\n",
       "      <td>C(app_name)[T.Turbo FAST]</td>\n",
       "      <td>[0.361351414913]</td>\n",
       "    </tr>\n",
       "    <tr>\n",
       "      <th>385</th>\n",
       "      <td>C(app_name)[T.Two Fingers, but only one brain]</td>\n",
       "      <td>[0.316040633094]</td>\n",
       "    </tr>\n",
       "    <tr>\n",
       "      <th>386</th>\n",
       "      <td>C(app_name)[T.UFB - iOS]</td>\n",
       "      <td>[0.148588024004]</td>\n",
       "    </tr>\n",
       "    <tr>\n",
       "      <th>387</th>\n",
       "      <td>C(app_name)[T.UFB 2 - iOS]</td>\n",
       "      <td>[1.14653647783]</td>\n",
       "    </tr>\n",
       "    <tr>\n",
       "      <th>388</th>\n",
       "      <td>C(app_name)[T.US_QuizClash_iOS]</td>\n",
       "      <td>[-0.131743559203]</td>\n",
       "    </tr>\n",
       "    <tr>\n",
       "      <th>389</th>\n",
       "      <td>C(app_name)[T.UTIL03 - Secret Folder!]</td>\n",
       "      <td>[0.417524566264]</td>\n",
       "    </tr>\n",
       "    <tr>\n",
       "      <th>390</th>\n",
       "      <td>C(app_name)[T.Video Download - iBolt Downloade...</td>\n",
       "      <td>[-0.185788405417]</td>\n",
       "    </tr>\n",
       "    <tr>\n",
       "      <th>391</th>\n",
       "      <td>C(app_name)[T.Wallpapers HD+]</td>\n",
       "      <td>[0.537489875998]</td>\n",
       "    </tr>\n",
       "    <tr>\n",
       "      <th>392</th>\n",
       "      <td>C(app_name)[T.Watch &amp; Listen]</td>\n",
       "      <td>[-0.197640669036]</td>\n",
       "    </tr>\n",
       "    <tr>\n",
       "      <th>393</th>\n",
       "      <td>C(app_name)[T.Wild West Pinball - Machine for ...</td>\n",
       "      <td>[-0.146988568797]</td>\n",
       "    </tr>\n",
       "    <tr>\n",
       "      <th>394</th>\n",
       "      <td>C(app_name)[T.Word Crack iOS]</td>\n",
       "      <td>[-0.217236796807]</td>\n",
       "    </tr>\n",
       "    <tr>\n",
       "      <th>395</th>\n",
       "      <td>C(app_name)[T.Word Pic Quiz Pro Football - nam...</td>\n",
       "      <td>[-0.394406534963]</td>\n",
       "    </tr>\n",
       "    <tr>\n",
       "      <th>396</th>\n",
       "      <td>C(app_name)[T.Wordfeud_IOS]</td>\n",
       "      <td>[-0.675956172244]</td>\n",
       "    </tr>\n",
       "    <tr>\n",
       "      <th>397</th>\n",
       "      <td>C(app_name)[T.Words With Friends 2 iPhone]</td>\n",
       "      <td>[-0.529535483728]</td>\n",
       "    </tr>\n",
       "    <tr>\n",
       "      <th>398</th>\n",
       "      <td>C(app_name)[T.YAHTZEE With Buddies iPhone]</td>\n",
       "      <td>[-0.819427504037]</td>\n",
       "    </tr>\n",
       "    <tr>\n",
       "      <th>399</th>\n",
       "      <td>C(app_name)[T.busuu]</td>\n",
       "      <td>[0.124473598893]</td>\n",
       "    </tr>\n",
       "    <tr>\n",
       "      <th>400</th>\n",
       "      <td>C(app_name)[T.iDownloader (New Bndl)]</td>\n",
       "      <td>[-0.418403106341]</td>\n",
       "    </tr>\n",
       "    <tr>\n",
       "      <th>401</th>\n",
       "      <td>C(app_name)[T.iMedia Player]</td>\n",
       "      <td>[-0.165242302778]</td>\n",
       "    </tr>\n",
       "    <tr>\n",
       "      <th>402</th>\n",
       "      <td>C(app_name)[T.iOS Boyahoy New]</td>\n",
       "      <td>[0.761901418152]</td>\n",
       "    </tr>\n",
       "    <tr>\n",
       "      <th>403</th>\n",
       "      <td>C(app_name)[T.iOS Skout New]</td>\n",
       "      <td>[-0.710674170456]</td>\n",
       "    </tr>\n",
       "    <tr>\n",
       "      <th>404</th>\n",
       "      <td>C(app_name)[T.iSound - SoundCloud Free]</td>\n",
       "      <td>[-0.54675016995]</td>\n",
       "    </tr>\n",
       "    <tr>\n",
       "      <th>405</th>\n",
       "      <td>C(app_name)[T.theBERRY iOS]</td>\n",
       "      <td>[-0.164753881244]</td>\n",
       "    </tr>\n",
       "    <tr>\n",
       "      <th>406</th>\n",
       "      <td>C(app_name)[T.theCHIVE iOS]</td>\n",
       "      <td>[0.427255065191]</td>\n",
       "    </tr>\n",
       "    <tr>\n",
       "      <th>407</th>\n",
       "      <td>C(app_name)[T.vDL (Appsneon)]</td>\n",
       "      <td>[-0.173247503725]</td>\n",
       "    </tr>\n",
       "    <tr>\n",
       "      <th>408</th>\n",
       "      <td>C(app_name)[T.vDL Ben (Old Bndl)]</td>\n",
       "      <td>[-0.0746148003909]</td>\n",
       "    </tr>\n",
       "    <tr>\n",
       "      <th>409</th>\n",
       "      <td>hours</td>\n",
       "      <td>[0.00116769086184]</td>\n",
       "    </tr>\n",
       "  </tbody>\n",
       "</table>\n",
       "<p>410 rows × 2 columns</p>\n",
       "</div>"
      ],
      "text/plain": [
       "                                                     0                   1\n",
       "0                                            Intercept    [-1.01968882484]\n",
       "1                                      C(weekday)[T.2]   [0.0236734393796]\n",
       "2                                      C(weekday)[T.3]   [-0.221296974624]\n",
       "3                                      C(weekday)[T.4]   [-0.186843372066]\n",
       "4                                      C(weekday)[T.5]  [-0.0227782555788]\n",
       "5                                      C(weekday)[T.6]  [-0.0430284557223]\n",
       "6                                      C(weekday)[T.7]   [0.0403258491747]\n",
       "7                                 C(app_type)[T.games]    [0.544265196089]\n",
       "8                             C(app_type)[T.lifestyle]   [-0.208480088555]\n",
       "9                                 C(app_type)[T.music]   [-0.225244779406]\n",
       "10                          C(app_type)[T.photography]    [0.253652883238]\n",
       "11                         C(app_type)[T.productivity]   [-0.274400680022]\n",
       "12                    C(app_type)[T.social_networking]   [-0.212546509238]\n",
       "13                               C(app_type)[T.sports]   [-0.264238202446]\n",
       "14                               C(app_type)[T.travel]    [0.124473598893]\n",
       "15                            C(app_type)[T.utilities]    [0.086510741943]\n",
       "16                           C(model)[T.iPad 2 (WiFi)]    [0.578167217361]\n",
       "17                           C(model)[T.iPad 3 (WiFi)]   [0.0288259592453]\n",
       "18                           C(model)[T.iPad 4 (WiFi)]   [-0.179455641952]\n",
       "19                         C(model)[T.iPad Air (WiFi)]   [-0.551583791666]\n",
       "20                        C(model)[T.iPad Mini (WiFi)]    [0.502648283491]\n",
       "21                                  C(model)[T.iPhone]   [-0.122291814198]\n",
       "22                                C(model)[T.iPhone 4]  [-0.0473348888981]\n",
       "23                         C(model)[T.iPhone 4 (CDMA)]    [0.140262978598]\n",
       "24                          C(model)[T.iPhone 4 (GSM)]   [0.0480810067536]\n",
       "25                               C(model)[T.iPhone 4S]   [0.0970560842165]\n",
       "26                          C(model)[T.iPhone 5 (GSM)]   [-0.360385558131]\n",
       "27                     C(model)[T.iPhone 5 (GSM+CDMA)]   [-0.155095951537]\n",
       "28                         C(model)[T.iPhone 5c (GSM)]   [-0.245309535539]\n",
       "29                         C(model)[T.iPhone 5s (GSM)]   [-0.345506027291]\n",
       "..                                                 ...                 ...\n",
       "380      C(app_name)[T.Top Gear: Race the Stig {1976}]    [0.549463632271]\n",
       "381                    C(app_name)[T.Trivia Crack iOS]   [-0.711771234879]\n",
       "382         C(app_name)[T.TubePlayer Free for YouTube]   [-0.236386500403]\n",
       "383               C(app_name)[T.Tubify for SoundCloud]    [0.559281753818]\n",
       "384                          C(app_name)[T.Turbo FAST]    [0.361351414913]\n",
       "385     C(app_name)[T.Two Fingers, but only one brain]    [0.316040633094]\n",
       "386                           C(app_name)[T.UFB - iOS]    [0.148588024004]\n",
       "387                         C(app_name)[T.UFB 2 - iOS]     [1.14653647783]\n",
       "388                    C(app_name)[T.US_QuizClash_iOS]   [-0.131743559203]\n",
       "389             C(app_name)[T.UTIL03 - Secret Folder!]    [0.417524566264]\n",
       "390  C(app_name)[T.Video Download - iBolt Downloade...   [-0.185788405417]\n",
       "391                      C(app_name)[T.Wallpapers HD+]    [0.537489875998]\n",
       "392                      C(app_name)[T.Watch & Listen]   [-0.197640669036]\n",
       "393  C(app_name)[T.Wild West Pinball - Machine for ...   [-0.146988568797]\n",
       "394                      C(app_name)[T.Word Crack iOS]   [-0.217236796807]\n",
       "395  C(app_name)[T.Word Pic Quiz Pro Football - nam...   [-0.394406534963]\n",
       "396                        C(app_name)[T.Wordfeud_IOS]   [-0.675956172244]\n",
       "397         C(app_name)[T.Words With Friends 2 iPhone]   [-0.529535483728]\n",
       "398         C(app_name)[T.YAHTZEE With Buddies iPhone]   [-0.819427504037]\n",
       "399                               C(app_name)[T.busuu]    [0.124473598893]\n",
       "400              C(app_name)[T.iDownloader (New Bndl)]   [-0.418403106341]\n",
       "401                       C(app_name)[T.iMedia Player]   [-0.165242302778]\n",
       "402                     C(app_name)[T.iOS Boyahoy New]    [0.761901418152]\n",
       "403                       C(app_name)[T.iOS Skout New]   [-0.710674170456]\n",
       "404            C(app_name)[T.iSound - SoundCloud Free]    [-0.54675016995]\n",
       "405                        C(app_name)[T.theBERRY iOS]   [-0.164753881244]\n",
       "406                        C(app_name)[T.theCHIVE iOS]    [0.427255065191]\n",
       "407                      C(app_name)[T.vDL (Appsneon)]   [-0.173247503725]\n",
       "408                  C(app_name)[T.vDL Ben (Old Bndl)]  [-0.0746148003909]\n",
       "409                                              hours  [0.00116769086184]\n",
       "\n",
       "[410 rows x 2 columns]"
      ]
     },
     "execution_count": 18,
     "metadata": {},
     "output_type": "execute_result"
    }
   ],
   "source": [
    "pd.DataFrame(zip(X_train.columns, np.transpose(modelLogR2.coef_)))"
   ]
  },
  {
   "cell_type": "code",
   "execution_count": 19,
   "metadata": {
    "collapsed": false,
    "scrolled": true
   },
   "outputs": [
    {
     "data": {
      "text/plain": [
       "0.84992784992784998"
      ]
     },
     "execution_count": 19,
     "metadata": {},
     "output_type": "execute_result"
    }
   ],
   "source": [
    "#Use Training Set to verify if model is learning anything\n",
    "verify_train = modelLogR2.predict(X_train)\n",
    "prob_train = modelLogR2.predict_proba(X_train)\n",
    "recall_score(y_train,verify_train)\n",
    "\n",
    "\n"
   ]
  },
  {
   "cell_type": "code",
   "execution_count": 20,
   "metadata": {
    "collapsed": false,
    "scrolled": true
   },
   "outputs": [
    {
     "name": "stdout",
     "output_type": "stream",
     "text": [
      "[[589 216]\n",
      " [104 478]]\n",
      "             precision    recall  f1-score   support\n",
      "\n",
      "        0.0       0.82      0.69      0.75       694\n",
      "        1.0       0.73      0.85      0.79       693\n",
      "\n",
      "avg / total       0.78      0.77      0.77      1387\n",
      "\n"
     ]
    }
   ],
   "source": [
    "#metrics for recall and confusion matrix\n",
    "\n",
    "print confusion_matrix(y_train, verify_train, labels=[True, False]).transpose()\n",
    "print classification_report(y_train, verify_train)"
   ]
  },
  {
   "cell_type": "code",
   "execution_count": 21,
   "metadata": {
    "collapsed": false,
    "scrolled": true
   },
   "outputs": [
    {
     "data": {
      "text/plain": [
       "0.83333333333333337"
      ]
     },
     "execution_count": 21,
     "metadata": {},
     "output_type": "execute_result"
    }
   ],
   "source": [
    "#Prediction using test set\n",
    "predictedLR2 = modelLogR2.predict(X_test)\n",
    "probLR2 = modelLogR2.predict_proba(X_test)\n",
    "recall_score(y_test,predictedLR2)\n",
    "\n",
    "\n"
   ]
  },
  {
   "cell_type": "code",
   "execution_count": 22,
   "metadata": {
    "collapsed": false,
    "scrolled": false
   },
   "outputs": [
    {
     "name": "stdout",
     "output_type": "stream",
     "text": [
      "[[65 36]\n",
      " [13 41]]\n",
      "             precision    recall  f1-score   support\n",
      "\n",
      "        0.0       0.76      0.53      0.63        77\n",
      "        1.0       0.64      0.83      0.73        78\n",
      "\n",
      "avg / total       0.70      0.68      0.68       155\n",
      "\n"
     ]
    }
   ],
   "source": [
    "#metrics for recall and confusion matrix\n",
    "\n",
    "cm = confusion_matrix(y_test, predictedLR2, labels=[True, False]).transpose()\n",
    "print cm\n",
    "print classification_report(y_test, predictedLR2)"
   ]
  },
  {
   "cell_type": "code",
   "execution_count": null,
   "metadata": {
    "collapsed": true
   },
   "outputs": [],
   "source": [
    "y_adjusted=prob_adjusted_outcome(probLR2,0.53)"
   ]
  },
  {
   "cell_type": "code",
   "execution_count": null,
   "metadata": {
    "collapsed": false
   },
   "outputs": [],
   "source": [
    "cm_adj = confusion_matrix(y_test, y_adjusted, labels=[True, False]).transpose()\n",
    "print cm_adj\n",
    "print classification_report(y_test, y_adjusted)"
   ]
  },
  {
   "cell_type": "code",
   "execution_count": null,
   "metadata": {
    "collapsed": true
   },
   "outputs": [],
   "source": []
  },
  {
   "cell_type": "code",
   "execution_count": null,
   "metadata": {
    "collapsed": true
   },
   "outputs": [],
   "source": []
  },
  {
   "cell_type": "code",
   "execution_count": null,
   "metadata": {
    "collapsed": true
   },
   "outputs": [],
   "source": []
  },
  {
   "cell_type": "code",
   "execution_count": null,
   "metadata": {
    "collapsed": false
   },
   "outputs": [],
   "source": [
    "plt.matshow(cm)\n",
    "plt.title('Confusion matrix')\n",
    "plt.colorbar()\n",
    "plt.ylabel('True label');\n",
    "plt.xlabel('Predicted label');"
   ]
  },
  {
   "cell_type": "code",
   "execution_count": null,
   "metadata": {
    "collapsed": true
   },
   "outputs": [],
   "source": []
  },
  {
   "cell_type": "code",
   "execution_count": null,
   "metadata": {
    "collapsed": true
   },
   "outputs": [],
   "source": [
    "filename='ATA2_data.csv'\n",
    "\n",
    "df2 = pd.read_csv(filename)\n",
    "df2=df2.drop('Unnamed: 0',1)\n",
    "\n",
    "df2.columns.unique()\n",
    "\n",
    "cats_to_keep=['entertainment', 'games', 'lifestyle', 'music', 'photography', 'productivity', \n",
    "             'social_networking', 'sports', 'travel', 'utilities']\n",
    "\n",
    "df2=df2[df2.app_type.isin(cats_to_keep)]"
   ]
  },
  {
   "cell_type": "code",
   "execution_count": null,
   "metadata": {
    "collapsed": true
   },
   "outputs": [],
   "source": [
    "cols_to_keep=['installed','clicked','impression','app_type','weekday','hours', 'week']\n",
    "filtered_df2=df2[cols_to_keep]"
   ]
  },
  {
   "cell_type": "code",
   "execution_count": null,
   "metadata": {
    "collapsed": false
   },
   "outputs": [],
   "source": [
    "np.mean(filtered_df2['installed'])"
   ]
  },
  {
   "cell_type": "code",
   "execution_count": null,
   "metadata": {
    "collapsed": true
   },
   "outputs": [],
   "source": [
    "False_df=df2[filtered_df['installed'] == False]\n",
    "Truth_df=df2[filtered_df['installed'] == True]\n",
    "\n",
    "target_downsampling = 0.50;\n",
    "downsampling=int(np.round((Truth_df.shape[0]/target_downsampling)*(1-target_downsampling)))\n",
    "\n",
    "\n",
    "\n",
    "#Downsampling by target downsample rate\n",
    "df2_false=resample(False_df, n_samples=downsampling, random_state=0, replace = False)\n",
    "df2_truth=\n",
    "# Merge the downsampled False with total True outcomes\n",
    "less_imbalance=pd.concat([df2_false,Truth_df])"
   ]
  },
  {
   "cell_type": "code",
   "execution_count": null,
   "metadata": {
    "collapsed": true
   },
   "outputs": [],
   "source": [
    "y_val,X_val = dmatrices('installed ~ hours + C(weekday) + C(app_type)'\n",
    "               ,df2, return_type='dataframe'\n",
    "               )"
   ]
  },
  {
   "cell_type": "code",
   "execution_count": null,
   "metadata": {
    "collapsed": false
   },
   "outputs": [],
   "source": [
    "y_val=np.ravel(y_val.iloc[:,1:])"
   ]
  },
  {
   "cell_type": "code",
   "execution_count": null,
   "metadata": {
    "collapsed": false
   },
   "outputs": [],
   "source": [
    "#Validate using validation set\n",
    "predictedVal = modelLogR2.predict(X_val)\n",
    "probVal = modelLogR2.predict_proba(X_val)\n",
    "recall_score(y_val,predictedVal)\n",
    "\n",
    "\n"
   ]
  },
  {
   "cell_type": "code",
   "execution_count": null,
   "metadata": {
    "collapsed": false
   },
   "outputs": [],
   "source": [
    "#metrics for recall and confusion matrix\n",
    "\n",
    "cm = confusion_matrix(y_val, predictedVal, labels=[True, False]).transpose()\n",
    "print cm\n",
    "print classification_report(y_val, predictedVal)"
   ]
  },
  {
   "cell_type": "code",
   "execution_count": null,
   "metadata": {
    "collapsed": true
   },
   "outputs": [],
   "source": [
    "y_adjusted=prob_adjusted_outcome(probVal,0.52)"
   ]
  },
  {
   "cell_type": "code",
   "execution_count": null,
   "metadata": {
    "collapsed": false
   },
   "outputs": [],
   "source": [
    "cm_adj = confusion_matrix(y_val, y_adjusted, labels=[True, False]).transpose()\n",
    "print cm_adj\n",
    "print classification_report(y_val, y_adjusted)"
   ]
  },
  {
   "cell_type": "code",
   "execution_count": null,
   "metadata": {
    "collapsed": true
   },
   "outputs": [],
   "source": []
  },
  {
   "cell_type": "code",
   "execution_count": null,
   "metadata": {
    "collapsed": true
   },
   "outputs": [],
   "source": []
  },
  {
   "cell_type": "code",
   "execution_count": null,
   "metadata": {
    "collapsed": false
   },
   "outputs": [],
   "source": [
    "y_probVal=prob_class_outcome(probVal,1)"
   ]
  },
  {
   "cell_type": "code",
   "execution_count": null,
   "metadata": {
    "collapsed": true
   },
   "outputs": [],
   "source": []
  },
  {
   "cell_type": "code",
   "execution_count": null,
   "metadata": {
    "collapsed": false,
    "scrolled": true
   },
   "outputs": [],
   "source": [
    "plt.hist(y_probVal)"
   ]
  },
  {
   "cell_type": "code",
   "execution_count": null,
   "metadata": {
    "collapsed": false
   },
   "outputs": [],
   "source": [
    "Validation_prob=pd.DataFrame(df2['installed'])"
   ]
  },
  {
   "cell_type": "code",
   "execution_count": null,
   "metadata": {
    "collapsed": false
   },
   "outputs": [],
   "source": [
    "Validation_prob['week']=df2['week']"
   ]
  },
  {
   "cell_type": "code",
   "execution_count": null,
   "metadata": {
    "collapsed": false
   },
   "outputs": [],
   "source": [
    "Validation_prob['Prob']=y_probVal"
   ]
  },
  {
   "cell_type": "code",
   "execution_count": null,
   "metadata": {
    "collapsed": false
   },
   "outputs": [],
   "source": [
    "Validation_prob.shape"
   ]
  },
  {
   "cell_type": "code",
   "execution_count": null,
   "metadata": {
    "collapsed": true
   },
   "outputs": [],
   "source": [
    "prob_threshold=0.4"
   ]
  },
  {
   "cell_type": "code",
   "execution_count": null,
   "metadata": {
    "collapsed": true
   },
   "outputs": [],
   "source": [
    "lessThan20Per=Validation_prob[Validation_prob['Prob'] > prob_threshold ]"
   ]
  },
  {
   "cell_type": "code",
   "execution_count": null,
   "metadata": {
    "collapsed": false
   },
   "outputs": [],
   "source": [
    "lessThan20Per.shape"
   ]
  },
  {
   "cell_type": "code",
   "execution_count": null,
   "metadata": {
    "collapsed": true
   },
   "outputs": [],
   "source": [
    "drop_index=Validation_prob[np.logical_and(Validation_prob['Prob'] > prob_threshold , Validation_prob['installed'])]"
   ]
  },
  {
   "cell_type": "code",
   "execution_count": null,
   "metadata": {
    "collapsed": false
   },
   "outputs": [],
   "source": [
    "drop_index.shape"
   ]
  },
  {
   "cell_type": "code",
   "execution_count": null,
   "metadata": {
    "collapsed": false
   },
   "outputs": [],
   "source": [
    "Validation_prob.groupby('week').sum()"
   ]
  },
  {
   "cell_type": "code",
   "execution_count": null,
   "metadata": {
    "collapsed": false
   },
   "outputs": [],
   "source": [
    "drop_index.groupby('week').sum()"
   ]
  },
  {
   "cell_type": "code",
   "execution_count": null,
   "metadata": {
    "collapsed": true
   },
   "outputs": [],
   "source": [
    "def TrueFalse(value):\n",
    "    if value[0]=='F':\n",
    "        value = False\n",
    "    else:\n",
    "        value = True\n",
    "    return value"
   ]
  },
  {
   "cell_type": "code",
   "execution_count": null,
   "metadata": {
    "collapsed": false
   },
   "outputs": [],
   "source": [
    "df2.dtypes"
   ]
  },
  {
   "cell_type": "code",
   "execution_count": null,
   "metadata": {
    "collapsed": false
   },
   "outputs": [],
   "source": [
    "Validation_prob.info()"
   ]
  },
  {
   "cell_type": "code",
   "execution_count": null,
   "metadata": {
    "collapsed": false,
    "scrolled": true
   },
   "outputs": [],
   "source": [
    "Validation_prob.groupby('week')['Prob','installed'].sum()"
   ]
  },
  {
   "cell_type": "code",
   "execution_count": null,
   "metadata": {
    "collapsed": true
   },
   "outputs": [],
   "source": [
    "Val_df=Validation_prob[Validation_prob['installed'] == True]"
   ]
  },
  {
   "cell_type": "code",
   "execution_count": null,
   "metadata": {
    "collapsed": false
   },
   "outputs": [],
   "source": [
    "Val_df.shape"
   ]
  },
  {
   "cell_type": "code",
   "execution_count": null,
   "metadata": {
    "collapsed": false
   },
   "outputs": [],
   "source": [
    "np.sum(np.array(y_probVal))/np.sum(y_val)"
   ]
  },
  {
   "cell_type": "code",
   "execution_count": null,
   "metadata": {
    "collapsed": false
   },
   "outputs": [],
   "source": [
    "y_adjusted=prob_adjusted_outcome(probLR2,0.5)"
   ]
  },
  {
   "cell_type": "code",
   "execution_count": null,
   "metadata": {
    "collapsed": false
   },
   "outputs": [],
   "source": [
    "print classification_report(y_test, y_adjusted)"
   ]
  },
  {
   "cell_type": "code",
   "execution_count": null,
   "metadata": {
    "collapsed": true
   },
   "outputs": [],
   "source": [
    "def prob_class_outcome(model_probabilities,select_class):\n",
    "    prob_class=[]\n",
    "    for prob in model_probabilities:\n",
    "            prob_class.append(prob[select_class])\n",
    "    return prob_class"
   ]
  },
  {
   "cell_type": "code",
   "execution_count": null,
   "metadata": {
    "collapsed": false
   },
   "outputs": [],
   "source": [
    "y_prob=prob_class_outcome(probLR2,1)"
   ]
  },
  {
   "cell_type": "code",
   "execution_count": null,
   "metadata": {
    "collapsed": false
   },
   "outputs": [],
   "source": [
    "np.sum(np.array(y_prob))/np.sum(y_test)"
   ]
  },
  {
   "cell_type": "code",
   "execution_count": null,
   "metadata": {
    "collapsed": false
   },
   "outputs": [],
   "source": [
    "np.sum(y_test)"
   ]
  },
  {
   "cell_type": "code",
   "execution_count": null,
   "metadata": {
    "collapsed": false
   },
   "outputs": [],
   "source": [
    "\n",
    "# Precision Recall Curve\n",
    "precision, recall, thresholds = precision_recall_curve(y_test,y_prob)"
   ]
  },
  {
   "cell_type": "code",
   "execution_count": null,
   "metadata": {
    "collapsed": false
   },
   "outputs": [],
   "source": [
    "plt.plot(recall,precision)"
   ]
  },
  {
   "cell_type": "code",
   "execution_count": null,
   "metadata": {
    "collapsed": true
   },
   "outputs": [],
   "source": []
  },
  {
   "cell_type": "markdown",
   "metadata": {
    "collapsed": true
   },
   "source": [
    "### Gradient Boosting Classifier"
   ]
  },
  {
   "cell_type": "code",
   "execution_count": null,
   "metadata": {
    "collapsed": true
   },
   "outputs": [],
   "source": [
    "modelGBC = GradientBoostingClassifier(max_features='auto');\n",
    "modelGBC.fit(X_train, y_train);"
   ]
  },
  {
   "cell_type": "code",
   "execution_count": null,
   "metadata": {
    "collapsed": true
   },
   "outputs": [],
   "source": [
    "param_grid = {\"loss\": ['deviance', 'exponential'],\n",
    "              \"learning_rate\": [0.05, 0.1, 0.2, 0.5],\n",
    "              \"n_estimators\": [50, 100, 500, 1000],\n",
    "              \"max_depth\": [1, 3, 5, 10]\n",
    "              \"max_features\": ['auto','sqrt','log2']}"
   ]
  },
  {
   "cell_type": "code",
   "execution_count": null,
   "metadata": {
    "collapsed": false
   },
   "outputs": [],
   "source": [
    "Psearch=GridSearchCV(GradientBoostingClassifier(), param_grid, scoring=\"precision\")"
   ]
  },
  {
   "cell_type": "code",
   "execution_count": null,
   "metadata": {
    "collapsed": false
   },
   "outputs": [],
   "source": [
    "GridGBCmodel=Psearch.fit(X_train,y_train)"
   ]
  },
  {
   "cell_type": "code",
   "execution_count": null,
   "metadata": {
    "collapsed": true
   },
   "outputs": [],
   "source": []
  },
  {
   "cell_type": "code",
   "execution_count": null,
   "metadata": {
    "collapsed": false
   },
   "outputs": [],
   "source": [
    "pd.DataFrame(zip(X_train.columns, np.transpose(modelGBC.feature_importances_)))"
   ]
  },
  {
   "cell_type": "code",
   "execution_count": null,
   "metadata": {
    "collapsed": false
   },
   "outputs": [],
   "source": [
    "#Use Training Set to verify if model is learning anything\n",
    "verify_train = modelGBC.predict(X_train)\n",
    "prob_train = modelGBC.predict_proba(X_train)\n",
    "recall_score(y_train,verify_train)"
   ]
  },
  {
   "cell_type": "code",
   "execution_count": null,
   "metadata": {
    "collapsed": false,
    "scrolled": true
   },
   "outputs": [],
   "source": [
    "#metrics for recall and confusion matrix\n",
    "\n",
    "print confusion_matrix(y_train, verify_train, labels=[True, False]).transpose()\n",
    "print classification_report(y_train, verify_train)"
   ]
  },
  {
   "cell_type": "code",
   "execution_count": null,
   "metadata": {
    "collapsed": false
   },
   "outputs": [],
   "source": [
    "#Prediction using test set\n",
    "predictedGBC = modelGBC.predict(X_val)\n",
    "probGBC = modelGBC.predict_proba(X_val)\n",
    "recall_score(y_val,predictedGBC)"
   ]
  },
  {
   "cell_type": "code",
   "execution_count": null,
   "metadata": {
    "collapsed": false
   },
   "outputs": [],
   "source": [
    "#metrics for recall and confusion matrix\n",
    "\n",
    "cm = confusion_matrix(y_val, predictedGBC, labels=[True, False]).transpose()\n",
    "print cm\n",
    "print classification_report(y_val, predictedGBC)"
   ]
  },
  {
   "cell_type": "code",
   "execution_count": null,
   "metadata": {
    "collapsed": false
   },
   "outputs": [],
   "source": [
    "plt.matshow(cm)\n",
    "plt.title('Confusion matrix')\n",
    "plt.colorbar()\n",
    "plt.ylabel('True label');\n",
    "plt.xlabel('Predicted label');"
   ]
  },
  {
   "cell_type": "code",
   "execution_count": null,
   "metadata": {
    "collapsed": false
   },
   "outputs": [],
   "source": [
    "np.mean(y_test)"
   ]
  },
  {
   "cell_type": "markdown",
   "metadata": {},
   "source": [
    "#### Rank Users based on predicted probabilities"
   ]
  },
  {
   "cell_type": "code",
   "execution_count": null,
   "metadata": {
    "collapsed": false
   },
   "outputs": [],
   "source": [
    "ranked_df=pd.DataFrame(predictedGBC)\n",
    "ranked_df['Probabilities'] = prob_class_outcome(probGBC,1)\n",
    "ranked_df.columns=['Predicted Outcomes','Probabilities']\n",
    "ranked_df.sort(columns='Probabilities')"
   ]
  },
  {
   "cell_type": "code",
   "execution_count": null,
   "metadata": {
    "collapsed": false
   },
   "outputs": [],
   "source": [
    "rank_percentile = np.percentile(ranked_df['Probabilities'],1)"
   ]
  },
  {
   "cell_type": "code",
   "execution_count": null,
   "metadata": {
    "collapsed": false
   },
   "outputs": [],
   "source": [
    "plt.hist(ranked_df['Probabilities'])"
   ]
  },
  {
   "cell_type": "code",
   "execution_count": null,
   "metadata": {
    "collapsed": false
   },
   "outputs": [],
   "source": [
    "rank_percentile"
   ]
  },
  {
   "cell_type": "code",
   "execution_count": null,
   "metadata": {
    "collapsed": true
   },
   "outputs": [],
   "source": []
  },
  {
   "cell_type": "code",
   "execution_count": null,
   "metadata": {
    "collapsed": true
   },
   "outputs": [],
   "source": []
  },
  {
   "cell_type": "code",
   "execution_count": null,
   "metadata": {
    "collapsed": false
   },
   "outputs": [],
   "source": [
    "X_train.shape"
   ]
  },
  {
   "cell_type": "markdown",
   "metadata": {},
   "source": [
    "### Random Forests"
   ]
  },
  {
   "cell_type": "code",
   "execution_count": 23,
   "metadata": {
    "collapsed": false
   },
   "outputs": [],
   "source": [
    "ratio=np.mean(df['installed'])"
   ]
  },
  {
   "cell_type": "code",
   "execution_count": 24,
   "metadata": {
    "collapsed": false
   },
   "outputs": [],
   "source": [
    "#Downsampling by target downsample rate\n",
    "TotalData=100000\n",
    "Fsamples=int(np.round(TotalData*(1-ratio)))"
   ]
  },
  {
   "cell_type": "code",
   "execution_count": 25,
   "metadata": {
    "collapsed": false
   },
   "outputs": [
    {
     "ename": "NameError",
     "evalue": "name 'Tsamples' is not defined",
     "output_type": "error",
     "traceback": [
      "\u001b[0;31m---------------------------------------------------------------------------\u001b[0m",
      "\u001b[0;31mNameError\u001b[0m                                 Traceback (most recent call last)",
      "\u001b[0;32m<ipython-input-25-12d1b2057482>\u001b[0m in \u001b[0;36m<module>\u001b[0;34m()\u001b[0m\n\u001b[0;32m----> 1\u001b[0;31m \u001b[0mTsamples\u001b[0m\u001b[0;34m+\u001b[0m\u001b[0mFsamples\u001b[0m\u001b[0;34m\u001b[0m\u001b[0m\n\u001b[0m",
      "\u001b[0;31mNameError\u001b[0m: name 'Tsamples' is not defined"
     ]
    }
   ],
   "source": [
    "Tsamples+Fsamples"
   ]
  },
  {
   "cell_type": "code",
   "execution_count": 26,
   "metadata": {
    "collapsed": false
   },
   "outputs": [],
   "source": [
    "False_df=filtered_df[filtered_df['installed'] == False]\n",
    "Truth_df=filtered_df[filtered_df['installed'] == True]\n",
    "\n",
    "df2_false=resample(False_df, n_samples=Fsamples, random_state=0, replace = False)\n",
    "df2_truth=resample(Truth_df, n_samples=TotalData-Fsamples, random_state=0, replace = False)\n",
    "# Merge the downsampled False with total True outcomes\n",
    "less_imbalance=pd.concat([df2_false,df2_truth])"
   ]
  },
  {
   "cell_type": "code",
   "execution_count": 27,
   "metadata": {
    "collapsed": true
   },
   "outputs": [],
   "source": [
    "y_com,X_com = dmatrices('installed ~ hours + C(weekday) + C(app_type) + C(model) + C(country) + C(publisher_name) + C(language) + C(app_name)'\n",
    "               ,less_imbalance, return_type='dataframe'\n",
    "               )"
   ]
  },
  {
   "cell_type": "code",
   "execution_count": 28,
   "metadata": {
    "collapsed": false
   },
   "outputs": [],
   "source": [
    "y_com=np.ravel(y_com.iloc[:,1:])"
   ]
  },
  {
   "cell_type": "code",
   "execution_count": null,
   "metadata": {
    "collapsed": false
   },
   "outputs": [],
   "source": []
  },
  {
   "cell_type": "code",
   "execution_count": 29,
   "metadata": {
    "collapsed": false
   },
   "outputs": [],
   "source": [
    "X_train, X_test, y_train, y_test = train_test_split(X_com,y_com, test_size=0.3, random_state=0)"
   ]
  },
  {
   "cell_type": "code",
   "execution_count": null,
   "metadata": {
    "collapsed": true
   },
   "outputs": [],
   "source": []
  },
  {
   "cell_type": "code",
   "execution_count": 30,
   "metadata": {
    "collapsed": false,
    "scrolled": true
   },
   "outputs": [
    {
     "data": {
      "text/plain": [
       "RandomForestClassifier(bootstrap=True, class_weight='auto', criterion='gini',\n",
       "            max_depth=None, max_features='auto', max_leaf_nodes=None,\n",
       "            min_samples_leaf=1, min_samples_split=2,\n",
       "            min_weight_fraction_leaf=0.0, n_estimators=100, n_jobs=1,\n",
       "            oob_score=False, random_state=None, verbose=0,\n",
       "            warm_start=False)"
      ]
     },
     "execution_count": 30,
     "metadata": {},
     "output_type": "execute_result"
    }
   ],
   "source": [
    "modelRandomForest= RandomForestClassifier(class_weight='auto', n_estimators=100)\n",
    "modelRandomForest.fit(X_train, y_train)"
   ]
  },
  {
   "cell_type": "code",
   "execution_count": 31,
   "metadata": {
    "collapsed": true
   },
   "outputs": [],
   "source": [
    "importances = modelRandomForest.feature_importances_\n",
    "std = np.std([tree.feature_importances_ for tree in modelRandomForest.estimators_], axis=0)\n",
    "indices = np.argsort(importances)[::-1]"
   ]
  },
  {
   "cell_type": "code",
   "execution_count": null,
   "metadata": {
    "collapsed": false
   },
   "outputs": [],
   "source": []
  },
  {
   "cell_type": "code",
   "execution_count": 32,
   "metadata": {
    "collapsed": true
   },
   "outputs": [],
   "source": [
    "small_indices=[1487,103, 4 , 52, 50 , 5, 47, 6, 40, 7, 43, 694, 217, 242,1, 1291, 215]"
   ]
  },
  {
   "cell_type": "code",
   "execution_count": 33,
   "metadata": {
    "collapsed": false
   },
   "outputs": [
    {
     "data": {
      "text/plain": [
       "Index([u'hours', u'C(publisher_name)[T.Ensolight Interactive]',\n",
       "       u'C(weekday)[T.5]', u'C(country)[T.USA]', u'C(model)[T.iPod Touch 5G]',\n",
       "       u'C(weekday)[T.6]', u'C(model)[T.iPhone 6]', u'C(weekday)[T.7]',\n",
       "       u'C(model)[T.iPhone 4S]', u'C(app_type)[T.games]',\n",
       "       u'C(model)[T.iPhone 5c (GSM)]', u'C(app_name)[T.Fat No More - iOS]',\n",
       "       u'C(publisher_name)[T.Scopely, Inc.]', u'C(publisher_name)[T.Tapps]',\n",
       "       u'C(weekday)[T.2]', u'C(app_name)[T.Swamp Attack - iPhone]',\n",
       "       u'C(publisher_name)[T.SEGA]'],\n",
       "      dtype='object')"
      ]
     },
     "execution_count": 33,
     "metadata": {},
     "output_type": "execute_result"
    }
   ],
   "source": [
    "X_train.columns[small_indices]"
   ]
  },
  {
   "cell_type": "code",
   "execution_count": 34,
   "metadata": {
    "collapsed": true
   },
   "outputs": [],
   "source": [
    "index_plot=['hours','Pub_name\\nE', 'Day 5', 'Country - USA', 'model\\niPod Touch 5g', 'Day 6', 'model\\niPhone6', 'Day 7',\n",
    "       'model\\niPhone 4S', 'Ad_venue\\ngames',\n",
    "       'model\\niPhone 5c', 'App_name\\nF',\n",
    "       'Pub_name\\nS', 'Pub_name\\nT',\n",
    "       'Day 2', 'App_name\\nS',\n",
    "       'Pub_name\\nSE']"
   ]
  },
  {
   "cell_type": "code",
   "execution_count": 35,
   "metadata": {
    "collapsed": false
   },
   "outputs": [
    {
     "data": {
      "text/plain": [
       "array([ 1,  3,  5,  7,  9, 11, 13, 15, 17, 19, 21, 23, 25, 27, 29, 31, 33])"
      ]
     },
     "execution_count": 35,
     "metadata": {},
     "output_type": "execute_result"
    }
   ],
   "source": [
    "np.arange(1,34, 2)"
   ]
  },
  {
   "cell_type": "code",
   "execution_count": 36,
   "metadata": {
    "collapsed": false,
    "scrolled": true
   },
   "outputs": [
    {
     "data": {
      "text/plain": [
       "17"
      ]
     },
     "execution_count": 36,
     "metadata": {},
     "output_type": "execute_result"
    }
   ],
   "source": [
    "len(index_plot)"
   ]
  },
  {
   "cell_type": "code",
   "execution_count": 37,
   "metadata": {
    "collapsed": false
   },
   "outputs": [],
   "source": [
    "plt.figure()\n",
    "plt.title(\"Feature importances\")\n",
    "plt.bar(np.arange(1,34, 2), importances[small_indices],\n",
    "       color=\"r\", align=\"center\")\n",
    "plt.xticks(np.arange(1,34, 2), index_plot, rotation= 90)\n",
    "plt.xlim([-1, 34])\n",
    "plt.show()"
   ]
  },
  {
   "cell_type": "code",
   "execution_count": null,
   "metadata": {
    "collapsed": false
   },
   "outputs": [],
   "source": [
    "X_train.columns[356]"
   ]
  },
  {
   "cell_type": "code",
   "execution_count": null,
   "metadata": {
    "collapsed": false
   },
   "outputs": [],
   "source": [
    "X_train.columns[117]"
   ]
  },
  {
   "cell_type": "code",
   "execution_count": null,
   "metadata": {
    "collapsed": true,
    "scrolled": true
   },
   "outputs": [],
   "source": [
    "# Random Forest Predictions\n",
    "predictedRF = modelRandomForest.predict(X_train)\n",
    "probs = modelRandomForest.predict_proba(X_train)"
   ]
  },
  {
   "cell_type": "code",
   "execution_count": null,
   "metadata": {
    "collapsed": false
   },
   "outputs": [],
   "source": [
    "# Look at precision/recall and confusion matrix\n",
    "\n",
    "print confusion_matrix(y_train,predictedRF)\n",
    "print classification_report(y_train,predictedRF)"
   ]
  },
  {
   "cell_type": "code",
   "execution_count": null,
   "metadata": {
    "collapsed": false
   },
   "outputs": [],
   "source": [
    "param_grid = {\"max_depth\": [3, None],\n",
    "              \"max_features\": [1, 3, 10],\n",
    "              \"min_samples_split\": [1, 3, 10],\n",
    "              \"min_samples_leaf\": [1, 3, 10],\n",
    "              \"bootstrap\": [True, False],\n",
    "              \"criterion\": [\"gini\", \"entropy\"]}"
   ]
  },
  {
   "cell_type": "code",
   "execution_count": null,
   "metadata": {
    "collapsed": true
   },
   "outputs": [],
   "source": [
    "grid_search = GridSearchCV(modelRandomForest, param_grid=param_grid)"
   ]
  },
  {
   "cell_type": "code",
   "execution_count": null,
   "metadata": {
    "collapsed": false
   },
   "outputs": [],
   "source": [
    "for params, mean_score, scores in ZZ.grid_scores_:\n",
    "        print(\"%0.3f (+/-%0.03f) for %r\"%(mean_score, scores.std() * 2, params))"
   ]
  },
  {
   "cell_type": "code",
   "execution_count": null,
   "metadata": {
    "collapsed": false
   },
   "outputs": [],
   "source": [
    "ZZ=grid_search.fit(X_train,y_train)"
   ]
  },
  {
   "cell_type": "code",
   "execution_count": null,
   "metadata": {
    "collapsed": false
   },
   "outputs": [],
   "source": [
    "ZZ.best_params_"
   ]
  },
  {
   "cell_type": "code",
   "execution_count": null,
   "metadata": {
    "collapsed": true
   },
   "outputs": [],
   "source": [
    "XX=ZZ.predict(X_test)"
   ]
  },
  {
   "cell_type": "code",
   "execution_count": null,
   "metadata": {
    "collapsed": false
   },
   "outputs": [],
   "source": [
    "print confusion_matrix(y_test,XX)\n",
    "print classification_report(y_test,XX)"
   ]
  }
 ],
 "metadata": {
  "kernelspec": {
   "display_name": "Python 2",
   "language": "python",
   "name": "python2"
  },
  "language_info": {
   "codemirror_mode": {
    "name": "ipython",
    "version": 2
   },
   "file_extension": ".py",
   "mimetype": "text/x-python",
   "name": "python",
   "nbconvert_exporter": "python",
   "pygments_lexer": "ipython2",
   "version": "2.7.10"
  }
 },
 "nbformat": 4,
 "nbformat_minor": 0
}
