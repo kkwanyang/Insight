{
 "cells": [
  {
   "cell_type": "markdown",
   "metadata": {},
   "source": [
    "# Loading Modules"
   ]
  },
  {
   "cell_type": "code",
   "execution_count": 1,
   "metadata": {
    "collapsed": false,
    "scrolled": true
   },
   "outputs": [],
   "source": [
    "%matplotlib inline\n",
    "\n",
    "import seaborn as sns\n",
    "import numpy as np\n",
    "import pandas as pd\n",
    "import csv\n",
    "import datetime\n",
    "import matplotlib.pyplot as plt\n",
    "from sklearn.utils import resample\n",
    "from sklearn.metrics import confusion_matrix, classification_report, recall_score, precision_recall_curve\n",
    "from sklearn.cross_validation import train_test_split, cross_val_score, KFold\n",
    "from patsy import dmatrices\n",
    "from sklearn.ensemble import RandomForestClassifier\n",
    "from sklearn.linear_model import LogisticRegression, LogisticRegressionCV\n",
    "from sklearn.naive_bayes import BernoulliNB\n",
    "from sklearn.grid_search import GridSearchCV\n",
    "import statsmodels.api as sm\n",
    "from sklearn.ensemble import GradientBoostingClassifier\n",
    "from sklearn.svm import LinearSVC"
   ]
  },
  {
   "cell_type": "code",
   "execution_count": 2,
   "metadata": {
    "collapsed": true
   },
   "outputs": [],
   "source": [
    "def prob_adjusted_outcome(model_probabilities,threshold):\n",
    "    y_adjusted=[]\n",
    "    for prob in model_probabilities:\n",
    "        if prob[1] > threshold:\n",
    "            y_adjusted.append(True)\n",
    "        else:\n",
    "            y_adjusted.append(False)\n",
    "    return y_adjusted"
   ]
  },
  {
   "cell_type": "markdown",
   "metadata": {},
   "source": [
    "# Loading Dataset and Reordering Data"
   ]
  },
  {
   "cell_type": "code",
   "execution_count": 3,
   "metadata": {
    "collapsed": true
   },
   "outputs": [],
   "source": [
    "filename='ATA_data.csv'\n",
    "\n",
    "df = pd.read_csv(filename)\n",
    "df=df.drop('Unnamed: 0',1)\n",
    "\n",
    "df.columns.unique()\n",
    "\n",
    "cats_to_keep=['entertainment', 'games', 'lifestyle', 'music', 'photography', 'productivity', \n",
    "             'social_networking', 'sports', 'travel', 'utilities']\n",
    "\n",
    "df=df[df.app_type.isin(cats_to_keep)]"
   ]
  },
  {
   "cell_type": "markdown",
   "metadata": {},
   "source": [
    "#### Taking interesting features"
   ]
  },
  {
   "cell_type": "code",
   "execution_count": 10,
   "metadata": {
    "collapsed": false
   },
   "outputs": [],
   "source": [
    "cols_to_keep=['installed','clicked','impression','app_type','weekday','hours']\n",
    "filtered_df=df[cols_to_keep]"
   ]
  },
  {
   "cell_type": "markdown",
   "metadata": {},
   "source": [
    "### Downsampling, remove the majority class by user set percentage"
   ]
  },
  {
   "cell_type": "code",
   "execution_count": 11,
   "metadata": {
    "collapsed": false,
    "scrolled": true
   },
   "outputs": [],
   "source": [
    "False_df=filtered_df[filtered_df['installed'] == False]\n",
    "Truth_df=filtered_df[filtered_df['installed'] == True]\n",
    "\n",
    "target_downsampling = 0.50;\n",
    "downsampling=int(np.round((Truth_df.shape[0]/target_downsampling)*(1-target_downsampling)))\n",
    "\n",
    "#Downsampling by target downsample rate\n",
    "Downsampled_False=resample(False_df, n_samples=downsampling, random_state=0, replace = False)\n",
    "\n",
    "# Merge the downsampled False with total True outcomes\n",
    "less_imbalance=pd.concat([Downsampled_False,Truth_df])"
   ]
  },
  {
   "cell_type": "code",
   "execution_count": 12,
   "metadata": {
    "collapsed": false
   },
   "outputs": [],
   "source": [
    "#No downsampling dataset\n",
    "clean_data=filtered_df"
   ]
  },
  {
   "cell_type": "markdown",
   "metadata": {},
   "source": [
    "## Creating the dummy variables."
   ]
  },
  {
   "cell_type": "markdown",
   "metadata": {},
   "source": [
    "### Quick dirty comparison of AUC of ROC "
   ]
  },
  {
   "cell_type": "markdown",
   "metadata": {},
   "source": [
    "<p> Comparing the ROC_AUC of the complete dataset vs. downsampled dataset. This is used as an indication of model stability. </p>"
   ]
  },
  {
   "cell_type": "markdown",
   "metadata": {},
   "source": [
    "<p> "
   ]
  },
  {
   "cell_type": "markdown",
   "metadata": {},
   "source": [
    "Use patsy to create the dummy variable"
   ]
  },
  {
   "cell_type": "code",
   "execution_count": 13,
   "metadata": {
    "collapsed": false,
    "scrolled": true
   },
   "outputs": [],
   "source": [
    "y_com,X_com = dmatrices('installed ~ hours + C(weekday) + C(app_type)'\n",
    "               ,clean_data, return_type='dataframe'\n",
    "               )"
   ]
  },
  {
   "cell_type": "code",
   "execution_count": 14,
   "metadata": {
    "collapsed": false
   },
   "outputs": [],
   "source": [
    "y_com=np.ravel(y_com.iloc[:,1:])"
   ]
  },
  {
   "cell_type": "code",
   "execution_count": 15,
   "metadata": {
    "collapsed": false
   },
   "outputs": [
    {
     "data": {
      "text/plain": [
       "array([ 0.,  0.,  0., ...,  0.,  0.,  0.])"
      ]
     },
     "execution_count": 15,
     "metadata": {},
     "output_type": "execute_result"
    }
   ],
   "source": [
    "y_com"
   ]
  },
  {
   "cell_type": "code",
   "execution_count": 16,
   "metadata": {
    "collapsed": false
   },
   "outputs": [],
   "source": [
    "roc_auc_com= cross_val_score(LogisticRegression(class_weight='auto', fit_intercept=False),\n",
    "                          X_com, y_com, scoring='roc_auc', cv =5)"
   ]
  },
  {
   "cell_type": "code",
   "execution_count": 17,
   "metadata": {
    "collapsed": false
   },
   "outputs": [],
   "source": [
    "y,X = dmatrices('installed ~ hours + C(weekday) + C(app_type)'\n",
    "               ,less_imbalance, return_type='dataframe'\n",
    "               )"
   ]
  },
  {
   "cell_type": "code",
   "execution_count": 18,
   "metadata": {
    "collapsed": true
   },
   "outputs": [],
   "source": [
    "y=np.ravel(y.iloc[:,1:])"
   ]
  },
  {
   "cell_type": "code",
   "execution_count": 19,
   "metadata": {
    "collapsed": false
   },
   "outputs": [],
   "source": [
    "roc_auc_dsampled= cross_val_score(LogisticRegression(class_weight='auto', fit_intercept=False),\n",
    "                          X, y, scoring='roc_auc', cv =5)"
   ]
  },
  {
   "cell_type": "code",
   "execution_count": 20,
   "metadata": {
    "collapsed": false
   },
   "outputs": [
    {
     "name": "stdout",
     "output_type": "stream",
     "text": [
      "0.00908811560613\n"
     ]
    }
   ],
   "source": [
    "roc_auc_diff= np.mean(roc_auc_com - roc_auc_dsampled)\n",
    "print roc_auc_diff"
   ]
  },
  {
   "cell_type": "markdown",
   "metadata": {},
   "source": [
    "## Running different models."
   ]
  },
  {
   "cell_type": "code",
   "execution_count": 21,
   "metadata": {
    "collapsed": false
   },
   "outputs": [],
   "source": [
    "rm=[LogisticRegression(fit_intercept=False), RandomForestClassifier(), LinearSVC(), GradientBoostingClassifier(max_depth=3)]\n",
    "cvs=5\n",
    "model_aucs=np.empty((len(rm),cvs))\n",
    "model_recalls=np.empty((len(rm),cvs))\n",
    "model_precision=np.empty((len(rm),cvs))\n",
    "\n",
    "for i,models in enumerate(rm):\n",
    "    \n",
    "    model_recalls[i,:] = cross_val_score(models, X, y, scoring = 'recall', cv = cvs)\n",
    "    model_precision[i,:] = cross_val_score(models, X, y, scoring = 'precision', cv = cvs)\n",
    "    model_aucs[i,:] = cross_val_score(models, X, y, scoring = 'roc_auc', cv = cvs)\n"
   ]
  },
  {
   "cell_type": "code",
   "execution_count": 22,
   "metadata": {
    "collapsed": false
   },
   "outputs": [],
   "source": [
    "summary_matrices = np.empty((6,len(rm)))\n",
    "summary_matrices[0, :] = np.mean(model_recalls, axis=1)\n",
    "summary_matrices[1, :] = np.std(model_recalls, axis = 1)\n",
    "summary_matrices[2, :] = np.mean(model_precision, axis=1)\n",
    "summary_matrices[3, :] = np.std(model_precision, axis = 1)\n",
    "summary_matrices[4, :] = np.mean(model_aucs, axis=1)\n",
    "summary_matrices[5, :] = np.std(model_aucs, axis = 1)"
   ]
  },
  {
   "cell_type": "code",
   "execution_count": 23,
   "metadata": {
    "collapsed": false
   },
   "outputs": [],
   "source": [
    "summary_df=pd.DataFrame(summary_matrices)\n",
    "summary_df.columns=['Logistic Regression', 'Random Forest', 'Linear SVC', 'GradientBoostClassifier']\n",
    "summary_df.index=['Recall mean', 'Recall std', 'Precision mean', 'Precision std', 'ROC_AUC mean', 'ROC_AUC std']"
   ]
  },
  {
   "cell_type": "code",
   "execution_count": 24,
   "metadata": {
    "collapsed": false
   },
   "outputs": [
    {
     "data": {
      "text/html": [
       "<div>\n",
       "<table border=\"1\" class=\"dataframe\">\n",
       "  <thead>\n",
       "    <tr style=\"text-align: right;\">\n",
       "      <th></th>\n",
       "      <th>Logistic Regression</th>\n",
       "      <th>Random Forest</th>\n",
       "      <th>Linear SVC</th>\n",
       "      <th>GradientBoostClassifier</th>\n",
       "    </tr>\n",
       "  </thead>\n",
       "  <tbody>\n",
       "    <tr>\n",
       "      <th>Recall mean</th>\n",
       "      <td>0.718492</td>\n",
       "      <td>0.549929</td>\n",
       "      <td>0.674344</td>\n",
       "      <td>0.648530</td>\n",
       "    </tr>\n",
       "    <tr>\n",
       "      <th>Recall std</th>\n",
       "      <td>0.132833</td>\n",
       "      <td>0.045149</td>\n",
       "      <td>0.247177</td>\n",
       "      <td>0.059857</td>\n",
       "    </tr>\n",
       "    <tr>\n",
       "      <th>Precision mean</th>\n",
       "      <td>0.537776</td>\n",
       "      <td>0.537999</td>\n",
       "      <td>0.536772</td>\n",
       "      <td>0.551129</td>\n",
       "    </tr>\n",
       "    <tr>\n",
       "      <th>Precision std</th>\n",
       "      <td>0.031245</td>\n",
       "      <td>0.025087</td>\n",
       "      <td>0.023670</td>\n",
       "      <td>0.023980</td>\n",
       "    </tr>\n",
       "    <tr>\n",
       "      <th>ROC_AUC mean</th>\n",
       "      <td>0.559329</td>\n",
       "      <td>0.557823</td>\n",
       "      <td>0.559536</td>\n",
       "      <td>0.566973</td>\n",
       "    </tr>\n",
       "    <tr>\n",
       "      <th>ROC_AUC std</th>\n",
       "      <td>0.036102</td>\n",
       "      <td>0.026982</td>\n",
       "      <td>0.036896</td>\n",
       "      <td>0.028127</td>\n",
       "    </tr>\n",
       "  </tbody>\n",
       "</table>\n",
       "</div>"
      ],
      "text/plain": [
       "                Logistic Regression  Random Forest  Linear SVC  \\\n",
       "Recall mean                0.718492       0.549929    0.674344   \n",
       "Recall std                 0.132833       0.045149    0.247177   \n",
       "Precision mean             0.537776       0.537999    0.536772   \n",
       "Precision std              0.031245       0.025087    0.023670   \n",
       "ROC_AUC mean               0.559329       0.557823    0.559536   \n",
       "ROC_AUC std                0.036102       0.026982    0.036896   \n",
       "\n",
       "                GradientBoostClassifier  \n",
       "Recall mean                    0.648530  \n",
       "Recall std                     0.059857  \n",
       "Precision mean                 0.551129  \n",
       "Precision std                  0.023980  \n",
       "ROC_AUC mean                   0.566973  \n",
       "ROC_AUC std                    0.028127  "
      ]
     },
     "execution_count": 24,
     "metadata": {},
     "output_type": "execute_result"
    }
   ],
   "source": [
    "summary_df"
   ]
  },
  {
   "cell_type": "code",
   "execution_count": null,
   "metadata": {
    "collapsed": true
   },
   "outputs": [],
   "source": []
  },
  {
   "cell_type": "markdown",
   "metadata": {},
   "source": []
  },
  {
   "cell_type": "markdown",
   "metadata": {},
   "source": [
    "#### Using 90% of data to train."
   ]
  },
  {
   "cell_type": "code",
   "execution_count": 25,
   "metadata": {
    "collapsed": true,
    "scrolled": true
   },
   "outputs": [],
   "source": [
    "X_train, X_test, y_train, y_test = train_test_split(X, y, test_size=0.1, random_state=0)"
   ]
  },
  {
   "cell_type": "markdown",
   "metadata": {},
   "source": [
    "## Logistic Regression "
   ]
  },
  {
   "cell_type": "code",
   "execution_count": 26,
   "metadata": {
    "collapsed": false,
    "scrolled": true
   },
   "outputs": [],
   "source": [
    "modelLogR2 = LogisticRegression(class_weight='auto',fit_intercept=False);\n",
    "modelLogR2.fit(X_train, y_train);"
   ]
  },
  {
   "cell_type": "code",
   "execution_count": 27,
   "metadata": {
    "collapsed": false,
    "scrolled": true
   },
   "outputs": [
    {
     "data": {
      "text/html": [
       "<div>\n",
       "<table border=\"1\" class=\"dataframe\">\n",
       "  <thead>\n",
       "    <tr style=\"text-align: right;\">\n",
       "      <th></th>\n",
       "      <th>0</th>\n",
       "      <th>1</th>\n",
       "    </tr>\n",
       "  </thead>\n",
       "  <tbody>\n",
       "    <tr>\n",
       "      <th>0</th>\n",
       "      <td>Intercept</td>\n",
       "      <td>[-0.851950810167]</td>\n",
       "    </tr>\n",
       "    <tr>\n",
       "      <th>1</th>\n",
       "      <td>C(weekday)[T.2]</td>\n",
       "      <td>[-0.176030310536]</td>\n",
       "    </tr>\n",
       "    <tr>\n",
       "      <th>2</th>\n",
       "      <td>C(weekday)[T.3]</td>\n",
       "      <td>[-0.510803962895]</td>\n",
       "    </tr>\n",
       "    <tr>\n",
       "      <th>3</th>\n",
       "      <td>C(weekday)[T.4]</td>\n",
       "      <td>[-0.386893082976]</td>\n",
       "    </tr>\n",
       "    <tr>\n",
       "      <th>4</th>\n",
       "      <td>C(weekday)[T.5]</td>\n",
       "      <td>[-0.147138848654]</td>\n",
       "    </tr>\n",
       "    <tr>\n",
       "      <th>5</th>\n",
       "      <td>C(weekday)[T.6]</td>\n",
       "      <td>[-0.0718215309963]</td>\n",
       "    </tr>\n",
       "    <tr>\n",
       "      <th>6</th>\n",
       "      <td>C(weekday)[T.7]</td>\n",
       "      <td>[0.0805888986078]</td>\n",
       "    </tr>\n",
       "    <tr>\n",
       "      <th>7</th>\n",
       "      <td>C(app_type)[T.games]</td>\n",
       "      <td>[1.03653054784]</td>\n",
       "    </tr>\n",
       "    <tr>\n",
       "      <th>8</th>\n",
       "      <td>C(app_type)[T.lifestyle]</td>\n",
       "      <td>[0.0977922083821]</td>\n",
       "    </tr>\n",
       "    <tr>\n",
       "      <th>9</th>\n",
       "      <td>C(app_type)[T.music]</td>\n",
       "      <td>[-0.471685922659]</td>\n",
       "    </tr>\n",
       "    <tr>\n",
       "      <th>10</th>\n",
       "      <td>C(app_type)[T.photography]</td>\n",
       "      <td>[0.373634769957]</td>\n",
       "    </tr>\n",
       "    <tr>\n",
       "      <th>11</th>\n",
       "      <td>C(app_type)[T.productivity]</td>\n",
       "      <td>[-0.358362259574]</td>\n",
       "    </tr>\n",
       "    <tr>\n",
       "      <th>12</th>\n",
       "      <td>C(app_type)[T.social_networking]</td>\n",
       "      <td>[-0.829821790088]</td>\n",
       "    </tr>\n",
       "    <tr>\n",
       "      <th>13</th>\n",
       "      <td>C(app_type)[T.sports]</td>\n",
       "      <td>[0.0439962531418]</td>\n",
       "    </tr>\n",
       "    <tr>\n",
       "      <th>14</th>\n",
       "      <td>C(app_type)[T.travel]</td>\n",
       "      <td>[-0.00702331066375]</td>\n",
       "    </tr>\n",
       "    <tr>\n",
       "      <th>15</th>\n",
       "      <td>C(app_type)[T.utilities]</td>\n",
       "      <td>[-0.0714323711392]</td>\n",
       "    </tr>\n",
       "    <tr>\n",
       "      <th>16</th>\n",
       "      <td>hours</td>\n",
       "      <td>[0.00812587700893]</td>\n",
       "    </tr>\n",
       "  </tbody>\n",
       "</table>\n",
       "</div>"
      ],
      "text/plain": [
       "                                   0                    1\n",
       "0                          Intercept    [-0.851950810167]\n",
       "1                    C(weekday)[T.2]    [-0.176030310536]\n",
       "2                    C(weekday)[T.3]    [-0.510803962895]\n",
       "3                    C(weekday)[T.4]    [-0.386893082976]\n",
       "4                    C(weekday)[T.5]    [-0.147138848654]\n",
       "5                    C(weekday)[T.6]   [-0.0718215309963]\n",
       "6                    C(weekday)[T.7]    [0.0805888986078]\n",
       "7               C(app_type)[T.games]      [1.03653054784]\n",
       "8           C(app_type)[T.lifestyle]    [0.0977922083821]\n",
       "9               C(app_type)[T.music]    [-0.471685922659]\n",
       "10        C(app_type)[T.photography]     [0.373634769957]\n",
       "11       C(app_type)[T.productivity]    [-0.358362259574]\n",
       "12  C(app_type)[T.social_networking]    [-0.829821790088]\n",
       "13             C(app_type)[T.sports]    [0.0439962531418]\n",
       "14             C(app_type)[T.travel]  [-0.00702331066375]\n",
       "15          C(app_type)[T.utilities]   [-0.0714323711392]\n",
       "16                             hours   [0.00812587700893]"
      ]
     },
     "execution_count": 27,
     "metadata": {},
     "output_type": "execute_result"
    }
   ],
   "source": [
    "pd.DataFrame(zip(X_train.columns, np.transpose(modelLogR2.coef_)))"
   ]
  },
  {
   "cell_type": "code",
   "execution_count": 28,
   "metadata": {
    "collapsed": false,
    "scrolled": true
   },
   "outputs": [
    {
     "data": {
      "text/plain": [
       "0.79076479076479078"
      ]
     },
     "execution_count": 28,
     "metadata": {},
     "output_type": "execute_result"
    }
   ],
   "source": [
    "#Use Training Set to verify if model is learning anything\n",
    "verify_train = modelLogR2.predict(X_train)\n",
    "prob_train = modelLogR2.predict_proba(X_train)\n",
    "recall_score(y_train,verify_train)\n",
    "\n",
    "\n"
   ]
  },
  {
   "cell_type": "code",
   "execution_count": 29,
   "metadata": {
    "collapsed": false,
    "scrolled": true
   },
   "outputs": [
    {
     "name": "stdout",
     "output_type": "stream",
     "text": [
      "[[548 425]\n",
      " [145 269]]\n",
      "             precision    recall  f1-score   support\n",
      "\n",
      "        0.0       0.65      0.39      0.49       694\n",
      "        1.0       0.56      0.79      0.66       693\n",
      "\n",
      "avg / total       0.61      0.59      0.57      1387\n",
      "\n"
     ]
    }
   ],
   "source": [
    "#metrics for recall and confusion matrix\n",
    "\n",
    "print confusion_matrix(y_train, verify_train, labels=[True, False]).transpose()\n",
    "print classification_report(y_train, verify_train)"
   ]
  },
  {
   "cell_type": "code",
   "execution_count": 30,
   "metadata": {
    "collapsed": false,
    "scrolled": true
   },
   "outputs": [
    {
     "data": {
      "text/plain": [
       "0.80769230769230771"
      ]
     },
     "execution_count": 30,
     "metadata": {},
     "output_type": "execute_result"
    }
   ],
   "source": [
    "#Prediction using test set\n",
    "predictedLR2 = modelLogR2.predict(X_test)\n",
    "probLR2 = modelLogR2.predict_proba(X_test)\n",
    "recall_score(y_test,predictedLR2)\n",
    "\n",
    "\n"
   ]
  },
  {
   "cell_type": "code",
   "execution_count": 31,
   "metadata": {
    "collapsed": false,
    "scrolled": false
   },
   "outputs": [
    {
     "name": "stdout",
     "output_type": "stream",
     "text": [
      "[[63 43]\n",
      " [15 34]]\n",
      "             precision    recall  f1-score   support\n",
      "\n",
      "        0.0       0.69      0.44      0.54        77\n",
      "        1.0       0.59      0.81      0.68        78\n",
      "\n",
      "avg / total       0.64      0.63      0.61       155\n",
      "\n"
     ]
    }
   ],
   "source": [
    "#metrics for recall and confusion matrix\n",
    "\n",
    "cm = confusion_matrix(y_test, predictedLR2, labels=[True, False]).transpose()\n",
    "print cm\n",
    "print classification_report(y_test, predictedLR2)"
   ]
  },
  {
   "cell_type": "code",
   "execution_count": 32,
   "metadata": {
    "collapsed": false
   },
   "outputs": [
    {
     "data": {
      "image/png": "[encoded data removed]",
      "text/plain": [
       "<matplotlib.figure.Figure at 0x11a9b7250>"
      ]
     },
     "metadata": {},
     "output_type": "display_data"
    }
   ],
   "source": [
    "plt.matshow(cm)\n",
    "plt.title('Confusion matrix')\n",
    "plt.colorbar()\n",
    "plt.ylabel('True label');\n",
    "plt.xlabel('Predicted label');"
   ]
  },
  {
   "cell_type": "code",
   "execution_count": null,
   "metadata": {
    "collapsed": true
   },
   "outputs": [],
   "source": []
  },
  {
   "cell_type": "code",
   "execution_count": 41,
   "metadata": {
    "collapsed": true
   },
   "outputs": [],
   "source": [
    "filename='ATA2_data.csv'\n",
    "\n",
    "df2 = pd.read_csv(filename)\n",
    "df2=df2.drop('Unnamed: 0',1)\n",
    "\n",
    "df2.columns.unique()\n",
    "\n",
    "cats_to_keep=['entertainment', 'games', 'lifestyle', 'music', 'photography', 'productivity', \n",
    "             'social_networking', 'sports', 'travel', 'utilities']\n",
    "\n",
    "df2=df2[df2.app_type.isin(cats_to_keep)]"
   ]
  },
  {
   "cell_type": "code",
   "execution_count": 57,
   "metadata": {
    "collapsed": true
   },
   "outputs": [],
   "source": [
    "cols_to_keep=['installed','clicked','impression','app_type','weekday','hours', 'week']\n",
    "filtered_df2=df2[cols_to_keep]"
   ]
  },
  {
   "cell_type": "code",
   "execution_count": 58,
   "metadata": {
    "collapsed": false
   },
   "outputs": [
    {
     "data": {
      "text/plain": [
       "0.00047496573285487671"
      ]
     },
     "execution_count": 58,
     "metadata": {},
     "output_type": "execute_result"
    }
   ],
   "source": [
    "np.mean(filtered_df2['installed'])"
   ]
  },
  {
   "cell_type": "code",
   "execution_count": 59,
   "metadata": {
    "collapsed": true
   },
   "outputs": [],
   "source": [
    "y_val,X_val = dmatrices('installed ~ hours + C(weekday) + C(app_type)'\n",
    "               ,df2, return_type='dataframe'\n",
    "               )"
   ]
  },
  {
   "cell_type": "code",
   "execution_count": 60,
   "metadata": {
    "collapsed": false
   },
   "outputs": [],
   "source": [
    "y_val=np.ravel(y_val.iloc[:,1:])"
   ]
  },
  {
   "cell_type": "code",
   "execution_count": 61,
   "metadata": {
    "collapsed": false
   },
   "outputs": [
    {
     "data": {
      "text/plain": [
       "0.79247730220492862"
      ]
     },
     "execution_count": 61,
     "metadata": {},
     "output_type": "execute_result"
    }
   ],
   "source": [
    "#Validate using validation set\n",
    "predictedVal = modelLogR2.predict(X_val)\n",
    "probVal = modelLogR2.predict_proba(X_val)\n",
    "recall_score(y_val,predictedVal)\n",
    "\n",
    "\n"
   ]
  },
  {
   "cell_type": "code",
   "execution_count": 62,
   "metadata": {
    "collapsed": false
   },
   "outputs": [
    {
     "name": "stdout",
     "output_type": "stream",
     "text": [
      "[[   611 985328]\n",
      " [   160 637176]]\n",
      "             precision    recall  f1-score   support\n",
      "\n",
      "        0.0       1.00      0.39      0.56   1622504\n",
      "        1.0       0.00      0.79      0.00       771\n",
      "\n",
      "avg / total       1.00      0.39      0.56   1623275\n",
      "\n"
     ]
    }
   ],
   "source": [
    "#metrics for recall and confusion matrix\n",
    "\n",
    "cm = confusion_matrix(y_val, predictedVal, labels=[True, False]).transpose()\n",
    "print cm\n",
    "print classification_report(y_val, predictedVal)"
   ]
  },
  {
   "cell_type": "code",
   "execution_count": 63,
   "metadata": {
    "collapsed": true
   },
   "outputs": [],
   "source": [
    "y_probVal=prob_class_outcome(probVal,1)"
   ]
  },
  {
   "cell_type": "code",
   "execution_count": null,
   "metadata": {
    "collapsed": true
   },
   "outputs": [],
   "source": []
  },
  {
   "cell_type": "code",
   "execution_count": 106,
   "metadata": {
    "collapsed": false,
    "scrolled": true
   },
   "outputs": [
    {
     "data": {
      "text/plain": [
       "(array([  49079.,  100959.,   81303.,   37176.,   57769.,    9825.,\n",
       "         147841.,  180419.,  519684.,  439220.]),\n",
       " array([ 0.1004191 ,  0.15149017,  0.20256124,  0.25363231,  0.30470338,\n",
       "         0.35577446,  0.40684553,  0.4579166 ,  0.50898767,  0.56005874,\n",
       "         0.61112981]),\n",
       " <a list of 10 Patch objects>)"
      ]
     },
     "execution_count": 106,
     "metadata": {},
     "output_type": "execute_result"
    },
    {
     "data": {
      "image/png": "[encoded data removed]",
      "text/plain": [
       "<matplotlib.figure.Figure at 0x11c913350>"
      ]
     },
     "metadata": {},
     "output_type": "display_data"
    }
   ],
   "source": [
    "plt.hist(y_probVal)"
   ]
  },
  {
   "cell_type": "code",
   "execution_count": 95,
   "metadata": {
    "collapsed": false
   },
   "outputs": [],
   "source": [
    "Validation_prob=pd.DataFrame(df2['installed'])"
   ]
  },
  {
   "cell_type": "code",
   "execution_count": 96,
   "metadata": {
    "collapsed": false
   },
   "outputs": [],
   "source": [
    "Validation_prob['week']=df2['week']"
   ]
  },
  {
   "cell_type": "code",
   "execution_count": 100,
   "metadata": {
    "collapsed": false
   },
   "outputs": [],
   "source": [
    "Validation_prob['Prob']=y_probVal"
   ]
  },
  {
   "cell_type": "code",
   "execution_count": 107,
   "metadata": {
    "collapsed": true
   },
   "outputs": [],
   "source": [
    "lessThan20Per=Validation_prob[Validation_prob['Prob'] < 0.20]"
   ]
  },
  {
   "cell_type": "code",
   "execution_count": 109,
   "metadata": {
    "collapsed": false
   },
   "outputs": [
    {
     "data": {
      "text/plain": [
       "(146242, 3)"
      ]
     },
     "execution_count": 109,
     "metadata": {},
     "output_type": "execute_result"
    }
   ],
   "source": [
    "lessThan20Per.shape"
   ]
  },
  {
   "cell_type": "code",
   "execution_count": 120,
   "metadata": {
    "collapsed": true
   },
   "outputs": [],
   "source": [
    "drop_index=Validation_prob[np.logical_and(Validation_prob['Prob'] <0.30 , Validation_prob['installed'])]"
   ]
  },
  {
   "cell_type": "code",
   "execution_count": 122,
   "metadata": {
    "collapsed": false
   },
   "outputs": [
    {
     "data": {
      "text/plain": [
       "(27, 3)"
      ]
     },
     "execution_count": 122,
     "metadata": {},
     "output_type": "execute_result"
    }
   ],
   "source": [
    "drop_index.shape"
   ]
  },
  {
   "cell_type": "code",
   "execution_count": 102,
   "metadata": {
    "collapsed": false
   },
   "outputs": [
    {
     "data": {
      "text/html": [
       "<div>\n",
       "<table border=\"1\" class=\"dataframe\">\n",
       "  <thead>\n",
       "    <tr style=\"text-align: right;\">\n",
       "      <th></th>\n",
       "      <th>installed</th>\n",
       "      <th>Prob</th>\n",
       "    </tr>\n",
       "    <tr>\n",
       "      <th>week</th>\n",
       "      <th></th>\n",
       "      <th></th>\n",
       "    </tr>\n",
       "  </thead>\n",
       "  <tbody>\n",
       "    <tr>\n",
       "      <th>20</th>\n",
       "      <td>93</td>\n",
       "      <td>127872.112975</td>\n",
       "    </tr>\n",
       "    <tr>\n",
       "      <th>21</th>\n",
       "      <td>149</td>\n",
       "      <td>163033.994780</td>\n",
       "    </tr>\n",
       "    <tr>\n",
       "      <th>22</th>\n",
       "      <td>202</td>\n",
       "      <td>154028.667784</td>\n",
       "    </tr>\n",
       "    <tr>\n",
       "      <th>23</th>\n",
       "      <td>92</td>\n",
       "      <td>71737.354805</td>\n",
       "    </tr>\n",
       "    <tr>\n",
       "      <th>24</th>\n",
       "      <td>64</td>\n",
       "      <td>40707.759880</td>\n",
       "    </tr>\n",
       "    <tr>\n",
       "      <th>25</th>\n",
       "      <td>43</td>\n",
       "      <td>43466.726631</td>\n",
       "    </tr>\n",
       "    <tr>\n",
       "      <th>26</th>\n",
       "      <td>24</td>\n",
       "      <td>34388.787930</td>\n",
       "    </tr>\n",
       "    <tr>\n",
       "      <th>27</th>\n",
       "      <td>28</td>\n",
       "      <td>35637.473570</td>\n",
       "    </tr>\n",
       "    <tr>\n",
       "      <th>28</th>\n",
       "      <td>42</td>\n",
       "      <td>36291.220270</td>\n",
       "    </tr>\n",
       "    <tr>\n",
       "      <th>29</th>\n",
       "      <td>20</td>\n",
       "      <td>34082.729985</td>\n",
       "    </tr>\n",
       "    <tr>\n",
       "      <th>30</th>\n",
       "      <td>14</td>\n",
       "      <td>21688.052194</td>\n",
       "    </tr>\n",
       "  </tbody>\n",
       "</table>\n",
       "</div>"
      ],
      "text/plain": [
       "      installed           Prob\n",
       "week                          \n",
       "20           93  127872.112975\n",
       "21          149  163033.994780\n",
       "22          202  154028.667784\n",
       "23           92   71737.354805\n",
       "24           64   40707.759880\n",
       "25           43   43466.726631\n",
       "26           24   34388.787930\n",
       "27           28   35637.473570\n",
       "28           42   36291.220270\n",
       "29           20   34082.729985\n",
       "30           14   21688.052194"
      ]
     },
     "execution_count": 102,
     "metadata": {},
     "output_type": "execute_result"
    }
   ],
   "source": [
    "Validation_prob.groupby('week').sum()"
   ]
  },
  {
   "cell_type": "code",
   "execution_count": 91,
   "metadata": {
    "collapsed": true
   },
   "outputs": [],
   "source": [
    "def TrueFalse(value):\n",
    "    if value[0]=='F':\n",
    "        value = False\n",
    "    else:\n",
    "        value = True\n",
    "    return value"
   ]
  },
  {
   "cell_type": "code",
   "execution_count": 88,
   "metadata": {
    "collapsed": false
   },
   "outputs": [
    {
     "data": {
      "text/plain": [
       "datetime                object\n",
       "advertiser_bundle_id     int64\n",
       "creative_id              int64\n",
       "ad_id                    int64\n",
       "app_id                   int64\n",
       "bidadop_id               int64\n",
       "app_name                object\n",
       "app_categories          object\n",
       "publisher_name          object\n",
       "device_idfa             object\n",
       "os                      object\n",
       "osv                     object\n",
       "make                    object\n",
       "model                   object\n",
       "country                 object\n",
       "city                    object\n",
       "language                object\n",
       "impression                bool\n",
       "clicked                   bool\n",
       "installed                 bool\n",
       "app_type                object\n",
       "weekday                  int64\n",
       "hours                    int64\n",
       "week                     int64\n",
       "dtype: object"
      ]
     },
     "execution_count": 88,
     "metadata": {},
     "output_type": "execute_result"
    }
   ],
   "source": [
    "df2.dtypes"
   ]
  },
  {
   "cell_type": "code",
   "execution_count": 90,
   "metadata": {
    "collapsed": false
   },
   "outputs": [
    {
     "name": "stdout",
     "output_type": "stream",
     "text": [
      "<class 'pandas.core.frame.DataFrame'>\n",
      "Int64Index: 1623275 entries, 0 to 1623274\n",
      "Data columns (total 3 columns):\n",
      "Prob         1623275 non-null float64\n",
      "week         1609791 non-null float64\n",
      "installed    1609791 non-null object\n",
      "dtypes: float64(2), object(1)\n",
      "memory usage: 49.5+ MB\n"
     ]
    }
   ],
   "source": [
    "Validation_prob.info()"
   ]
  },
  {
   "cell_type": "code",
   "execution_count": 82,
   "metadata": {
    "collapsed": false,
    "scrolled": true
   },
   "outputs": [
    {
     "data": {
      "text/html": [
       "<div>\n",
       "<table border=\"1\" class=\"dataframe\">\n",
       "  <thead>\n",
       "    <tr style=\"text-align: right;\">\n",
       "      <th></th>\n",
       "      <th>Prob</th>\n",
       "    </tr>\n",
       "    <tr>\n",
       "      <th>week</th>\n",
       "      <th></th>\n",
       "    </tr>\n",
       "  </thead>\n",
       "  <tbody>\n",
       "    <tr>\n",
       "      <th>20</th>\n",
       "      <td>128186.767147</td>\n",
       "    </tr>\n",
       "    <tr>\n",
       "      <th>21</th>\n",
       "      <td>163958.578731</td>\n",
       "    </tr>\n",
       "    <tr>\n",
       "      <th>22</th>\n",
       "      <td>154025.060026</td>\n",
       "    </tr>\n",
       "    <tr>\n",
       "      <th>23</th>\n",
       "      <td>72136.865192</td>\n",
       "    </tr>\n",
       "    <tr>\n",
       "      <th>24</th>\n",
       "      <td>40847.736876</td>\n",
       "    </tr>\n",
       "    <tr>\n",
       "      <th>25</th>\n",
       "      <td>42735.788719</td>\n",
       "    </tr>\n",
       "    <tr>\n",
       "      <th>26</th>\n",
       "      <td>34586.903330</td>\n",
       "    </tr>\n",
       "    <tr>\n",
       "      <th>27</th>\n",
       "      <td>35319.990439</td>\n",
       "    </tr>\n",
       "    <tr>\n",
       "      <th>28</th>\n",
       "      <td>36208.114470</td>\n",
       "    </tr>\n",
       "    <tr>\n",
       "      <th>29</th>\n",
       "      <td>34276.902054</td>\n",
       "    </tr>\n",
       "    <tr>\n",
       "      <th>30</th>\n",
       "      <td>15100.315157</td>\n",
       "    </tr>\n",
       "  </tbody>\n",
       "</table>\n",
       "</div>"
      ],
      "text/plain": [
       "               Prob\n",
       "week               \n",
       "20    128186.767147\n",
       "21    163958.578731\n",
       "22    154025.060026\n",
       "23     72136.865192\n",
       "24     40847.736876\n",
       "25     42735.788719\n",
       "26     34586.903330\n",
       "27     35319.990439\n",
       "28     36208.114470\n",
       "29     34276.902054\n",
       "30     15100.315157"
      ]
     },
     "execution_count": 82,
     "metadata": {},
     "output_type": "execute_result"
    }
   ],
   "source": [
    "Validation_prob.groupby('week')['Prob','installed'].sum()"
   ]
  },
  {
   "cell_type": "code",
   "execution_count": 103,
   "metadata": {
    "collapsed": true
   },
   "outputs": [],
   "source": [
    "Val_df=Validation_prob[Validation_prob['installed'] == True]"
   ]
  },
  {
   "cell_type": "code",
   "execution_count": 105,
   "metadata": {
    "collapsed": false
   },
   "outputs": [
    {
     "data": {
      "text/plain": [
       "(771, 3)"
      ]
     },
     "execution_count": 105,
     "metadata": {},
     "output_type": "execute_result"
    }
   ],
   "source": [
    "Val_df.shape"
   ]
  },
  {
   "cell_type": "code",
   "execution_count": 56,
   "metadata": {
    "collapsed": false
   },
   "outputs": [
    {
     "data": {
      "text/plain": [
       "989.53940441427335"
      ]
     },
     "execution_count": 56,
     "metadata": {},
     "output_type": "execute_result"
    }
   ],
   "source": [
    "np.sum(np.array(y_probVal))/np.sum(y_val)"
   ]
  },
  {
   "cell_type": "code",
   "execution_count": 33,
   "metadata": {
    "collapsed": false
   },
   "outputs": [],
   "source": [
    "y_adjusted=prob_adjusted_outcome(probLR2,0.5)"
   ]
  },
  {
   "cell_type": "code",
   "execution_count": 34,
   "metadata": {
    "collapsed": false
   },
   "outputs": [
    {
     "name": "stdout",
     "output_type": "stream",
     "text": [
      "             precision    recall  f1-score   support\n",
      "\n",
      "        0.0       0.69      0.44      0.54        77\n",
      "        1.0       0.59      0.81      0.68        78\n",
      "\n",
      "avg / total       0.64      0.63      0.61       155\n",
      "\n"
     ]
    }
   ],
   "source": [
    "print classification_report(y_test, y_adjusted)"
   ]
  },
  {
   "cell_type": "code",
   "execution_count": 49,
   "metadata": {
    "collapsed": true
   },
   "outputs": [],
   "source": [
    "def prob_class_outcome(model_probabilities,select_class):\n",
    "    prob_class=[]\n",
    "    for prob in model_probabilities:\n",
    "            prob_class.append(prob[select_class])\n",
    "    return prob_class"
   ]
  },
  {
   "cell_type": "code",
   "execution_count": 36,
   "metadata": {
    "collapsed": false
   },
   "outputs": [],
   "source": [
    "y_prob=prob_class_outcome(probLR2,1)"
   ]
  },
  {
   "cell_type": "code",
   "execution_count": 37,
   "metadata": {
    "collapsed": false
   },
   "outputs": [
    {
     "data": {
      "text/plain": [
       "0.97247602983348624"
      ]
     },
     "execution_count": 37,
     "metadata": {},
     "output_type": "execute_result"
    }
   ],
   "source": [
    "np.sum(np.array(y_prob))/np.sum(y_test)"
   ]
  },
  {
   "cell_type": "code",
   "execution_count": 38,
   "metadata": {
    "collapsed": false
   },
   "outputs": [
    {
     "data": {
      "text/plain": [
       "78.0"
      ]
     },
     "execution_count": 38,
     "metadata": {},
     "output_type": "execute_result"
    }
   ],
   "source": [
    "np.sum(y_test)"
   ]
  },
  {
   "cell_type": "code",
   "execution_count": 39,
   "metadata": {
    "collapsed": false
   },
   "outputs": [],
   "source": [
    "\n",
    "# Precision Recall Curve\n",
    "precision, recall, thresholds = precision_recall_curve(y_test,y_prob)"
   ]
  },
  {
   "cell_type": "code",
   "execution_count": 40,
   "metadata": {
    "collapsed": false
   },
   "outputs": [
    {
     "data": {
      "text/plain": [
       "[<matplotlib.lines.Line2D at 0x10f899950>]"
      ]
     },
     "execution_count": 40,
     "metadata": {},
     "output_type": "execute_result"
    },
    {
     "data": {
      "image/png": "[encoded data removed]",
      "text/plain": [
       "<matplotlib.figure.Figure at 0x115141fd0>"
      ]
     },
     "metadata": {},
     "output_type": "display_data"
    }
   ],
   "source": [
    "plt.plot(recall,precision)"
   ]
  },
  {
   "cell_type": "code",
   "execution_count": null,
   "metadata": {
    "collapsed": true
   },
   "outputs": [],
   "source": []
  },
  {
   "cell_type": "markdown",
   "metadata": {
    "collapsed": true
   },
   "source": [
    "### Gradient Boosting Classifier"
   ]
  },
  {
   "cell_type": "code",
   "execution_count": null,
   "metadata": {
    "collapsed": true
   },
   "outputs": [],
   "source": [
    "modelGBC = GradientBoostingClassifier();\n",
    "modelGBC.fit(X_train, y_train);"
   ]
  },
  {
   "cell_type": "code",
   "execution_count": null,
   "metadata": {
    "collapsed": false
   },
   "outputs": [],
   "source": [
    "pd.DataFrame(zip(X_train.columns, np.transpose(modelGBC.feature_importances_)))"
   ]
  },
  {
   "cell_type": "code",
   "execution_count": null,
   "metadata": {
    "collapsed": false
   },
   "outputs": [],
   "source": [
    "#Use Training Set to verify if model is learning anything\n",
    "verify_train = modelGBC.predict(X_train)\n",
    "prob_train = modelGBC.predict_proba(X_train)\n",
    "recall_score(y_train,verify_train)"
   ]
  },
  {
   "cell_type": "code",
   "execution_count": null,
   "metadata": {
    "collapsed": false,
    "scrolled": true
   },
   "outputs": [],
   "source": [
    "#metrics for recall and confusion matrix\n",
    "\n",
    "print confusion_matrix(y_train, verify_train, labels=[True, False]).transpose()\n",
    "print classification_report(y_train, verify_train)"
   ]
  },
  {
   "cell_type": "code",
   "execution_count": null,
   "metadata": {
    "collapsed": false
   },
   "outputs": [],
   "source": [
    "#Prediction using test set\n",
    "predictedGBC = modelGBC.predict(X_test)\n",
    "probGBC = modelGBC.predict_proba(X_test)\n",
    "recall_score(y_test,predictedGBC)"
   ]
  },
  {
   "cell_type": "code",
   "execution_count": null,
   "metadata": {
    "collapsed": false
   },
   "outputs": [],
   "source": [
    "#metrics for recall and confusion matrix\n",
    "\n",
    "cm = confusion_matrix(y_test, predictedGBC, labels=[True, False]).transpose()\n",
    "print cm\n",
    "print classification_report(y_test, predictedGBC)"
   ]
  },
  {
   "cell_type": "code",
   "execution_count": null,
   "metadata": {
    "collapsed": false
   },
   "outputs": [],
   "source": [
    "plt.matshow(cm)\n",
    "plt.title('Confusion matrix')\n",
    "plt.colorbar()\n",
    "plt.ylabel('True label');\n",
    "plt.xlabel('Predicted label');"
   ]
  },
  {
   "cell_type": "code",
   "execution_count": null,
   "metadata": {
    "collapsed": false
   },
   "outputs": [],
   "source": [
    "np.mean(y_test)"
   ]
  },
  {
   "cell_type": "markdown",
   "metadata": {},
   "source": [
    "#### Rank Users based on predicted probabilities"
   ]
  },
  {
   "cell_type": "code",
   "execution_count": null,
   "metadata": {
    "collapsed": false
   },
   "outputs": [],
   "source": [
    "ranked_df=pd.DataFrame(predictedGBC)\n",
    "ranked_df['Probabilities'] = prob_class_outcome(probGBC,1)\n",
    "ranked_df.columns=['Predicted Outcomes','Probabilities']\n",
    "ranked_df.sort(columns='Probabilities')"
   ]
  },
  {
   "cell_type": "code",
   "execution_count": null,
   "metadata": {
    "collapsed": false
   },
   "outputs": [],
   "source": [
    "rank_percentile = np.percentile(ranked_df['Probabilities'],1)"
   ]
  },
  {
   "cell_type": "code",
   "execution_count": null,
   "metadata": {
    "collapsed": false
   },
   "outputs": [],
   "source": [
    "plt.hist(ranked_df['Probabilities'])"
   ]
  },
  {
   "cell_type": "code",
   "execution_count": null,
   "metadata": {
    "collapsed": false
   },
   "outputs": [],
   "source": [
    "rank_percentile"
   ]
  },
  {
   "cell_type": "code",
   "execution_count": null,
   "metadata": {
    "collapsed": true
   },
   "outputs": [],
   "source": []
  },
  {
   "cell_type": "code",
   "execution_count": null,
   "metadata": {
    "collapsed": true
   },
   "outputs": [],
   "source": []
  },
  {
   "cell_type": "code",
   "execution_count": null,
   "metadata": {
    "collapsed": true
   },
   "outputs": [],
   "source": []
  },
  {
   "cell_type": "markdown",
   "metadata": {},
   "source": [
    "### Random Forests"
   ]
  },
  {
   "cell_type": "code",
   "execution_count": null,
   "metadata": {
    "collapsed": false,
    "scrolled": true
   },
   "outputs": [],
   "source": [
    "X_train, X_test, y_train, y_test = train_test_split(X,y, test_size=0.3, random_state=0)\n",
    "modelRandomForest= RandomForestClassifier(class_weight='auto', n_estimators=100)\n",
    "modelRandomForest.fit(X_train, y_train)"
   ]
  },
  {
   "cell_type": "code",
   "execution_count": null,
   "metadata": {
    "collapsed": true,
    "scrolled": true
   },
   "outputs": [],
   "source": [
    "# Random Forest Predictions\n",
    "predictedRF = modelRandomForest.predict(X_train)\n",
    "probs = modelRandomForest.predict_proba(X_train)"
   ]
  },
  {
   "cell_type": "code",
   "execution_count": null,
   "metadata": {
    "collapsed": false
   },
   "outputs": [],
   "source": [
    "# Look at precision/recall and confusion matrix\n",
    "\n",
    "print confusion_matrix(y_train,predictedRF)\n",
    "print classification_report(y_train,predictedRF)"
   ]
  },
  {
   "cell_type": "code",
   "execution_count": null,
   "metadata": {
    "collapsed": false
   },
   "outputs": [],
   "source": [
    "param_grid = {\"max_depth\": [3, None],\n",
    "              \"max_features\": [1, 3, 10],\n",
    "              \"min_samples_split\": [1, 3, 10],\n",
    "              \"min_samples_leaf\": [1, 3, 10],\n",
    "              \"bootstrap\": [True, False],\n",
    "              \"criterion\": [\"gini\", \"entropy\"]}"
   ]
  },
  {
   "cell_type": "code",
   "execution_count": null,
   "metadata": {
    "collapsed": true
   },
   "outputs": [],
   "source": [
    "grid_search = GridSearchCV(modelRandomForest, param_grid=param_grid)"
   ]
  },
  {
   "cell_type": "code",
   "execution_count": null,
   "metadata": {
    "collapsed": false
   },
   "outputs": [],
   "source": [
    "for params, mean_score, scores in ZZ.grid_scores_:\n",
    "        print(\"%0.3f (+/-%0.03f) for %r\"%(mean_score, scores.std() * 2, params))"
   ]
  },
  {
   "cell_type": "code",
   "execution_count": null,
   "metadata": {
    "collapsed": false
   },
   "outputs": [],
   "source": [
    "ZZ=grid_search.fit(X_train,y_train)"
   ]
  },
  {
   "cell_type": "code",
   "execution_count": null,
   "metadata": {
    "collapsed": false
   },
   "outputs": [],
   "source": [
    "ZZ.best_params_"
   ]
  },
  {
   "cell_type": "code",
   "execution_count": null,
   "metadata": {
    "collapsed": true
   },
   "outputs": [],
   "source": [
    "XX=ZZ.predict(X_test)"
   ]
  },
  {
   "cell_type": "code",
   "execution_count": null,
   "metadata": {
    "collapsed": false
   },
   "outputs": [],
   "source": [
    "print confusion_matrix(y_test,XX)\n",
    "print classification_report(y_test,XX)"
   ]
  }
 ],
 "metadata": {
  "kernelspec": {
   "display_name": "Python 2",
   "language": "python",
   "name": "python2"
  },
  "language_info": {
   "codemirror_mode": {
    "name": "ipython",
    "version": 2
   },
   "file_extension": ".py",
   "mimetype": "text/x-python",
   "name": "python",
   "nbconvert_exporter": "python",
   "pygments_lexer": "ipython2",
   "version": "2.7.10"
  }
 },
 "nbformat": 4,
 "nbformat_minor": 0
}
